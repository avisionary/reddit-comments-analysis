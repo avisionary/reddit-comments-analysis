{
 "cells": [
  {
   "cell_type": "markdown",
   "id": "bb7a1618-8a41-4137-828c-095f85e7e10d",
   "metadata": {},
   "source": [
    "# Reddit Analysis - ML"
   ]
  },
  {
   "cell_type": "markdown",
   "id": "c47ca9a1-3136-4792-9235-8803bf1ae43f",
   "metadata": {},
   "source": [
    "The goal of this ML assignment is to do topic modeling to check which topic do the comemnts belong to and predict socre and awards associated with them."
   ]
  },
  {
   "cell_type": "markdown",
   "id": "73100a28-fa5b-445e-90c2-244dc2b0d73d",
   "metadata": {},
   "source": [
    "## Spark Session"
   ]
  },
  {
   "cell_type": "code",
   "execution_count": 1,
   "id": "0da93c0d-f07c-42cc-9381-df46efe24fc0",
   "metadata": {},
   "outputs": [],
   "source": [
    "import findspark\n",
    "findspark.init()"
   ]
  },
  {
   "cell_type": "code",
   "execution_count": 2,
   "id": "b6012fb0-3890-437e-8442-dc219766ea30",
   "metadata": {},
   "outputs": [],
   "source": [
    "import pyspark.sql.functions as F\n",
    "from pyspark.sql.functions import col, lit\n",
    "from pyspark.sql import SparkSession"
   ]
  },
  {
   "cell_type": "code",
   "execution_count": 3,
   "id": "20e34874-f235-467a-b207-b76a98371bf5",
   "metadata": {},
   "outputs": [
    {
     "name": "stderr",
     "output_type": "stream",
     "text": [
      "Ivy Default Cache set to: /home/hadoop/.ivy2/cache\n",
      "The jars for the packages stored in: /home/hadoop/.ivy2/jars\n",
      ":: loading settings :: url = jar:file:/usr/lib/spark/jars/ivy-2.4.0.jar!/org/apache/ivy/core/settings/ivysettings.xml\n",
      "com.johnsnowlabs.nlp#spark-nlp_2.12 added as a dependency\n",
      ":: resolving dependencies :: org.apache.spark#spark-submit-parent-0104c778-5a9b-49e4-974d-20e54712b3ae;1.0\n",
      "\tconfs: [default]\n",
      "\tfound com.johnsnowlabs.nlp#spark-nlp_2.12;3.4.2 in central\n",
      "\tfound com.typesafe#config;1.4.1 in central\n",
      "\tfound org.rocksdb#rocksdbjni;6.5.3 in central\n",
      "\tfound com.amazonaws#aws-java-sdk-bundle;1.11.603 in central\n",
      "\tfound com.github.universal-automata#liblevenshtein;3.0.0 in central\n",
      "\tfound com.google.code.findbugs#annotations;3.0.1 in central\n",
      "\tfound net.jcip#jcip-annotations;1.0 in central\n",
      "\tfound com.google.code.findbugs#jsr305;3.0.1 in central\n",
      "\tfound com.google.protobuf#protobuf-java-util;3.0.0-beta-3 in central\n",
      "\tfound com.google.protobuf#protobuf-java;3.0.0-beta-3 in central\n",
      "\tfound com.google.code.gson#gson;2.3 in central\n",
      "\tfound it.unimi.dsi#fastutil;7.0.12 in central\n",
      "\tfound org.projectlombok#lombok;1.16.8 in central\n",
      "\tfound org.slf4j#slf4j-api;1.7.21 in central\n",
      "\tfound com.navigamez#greex;1.0 in central\n",
      "\tfound dk.brics.automaton#automaton;1.11-8 in central\n",
      "\tfound org.json4s#json4s-ext_2.12;3.5.3 in central\n",
      "\tfound joda-time#joda-time;2.9.5 in central\n",
      "\tfound org.joda#joda-convert;1.8.1 in central\n",
      "\tfound com.johnsnowlabs.nlp#tensorflow-cpu_2.12;0.3.3 in central\n",
      "\tfound net.sf.trove4j#trove4j;3.0.3 in central\n",
      ":: resolution report :: resolve 507ms :: artifacts dl 14ms\n",
      "\t:: modules in use:\n",
      "\tcom.amazonaws#aws-java-sdk-bundle;1.11.603 from central in [default]\n",
      "\tcom.github.universal-automata#liblevenshtein;3.0.0 from central in [default]\n",
      "\tcom.google.code.findbugs#annotations;3.0.1 from central in [default]\n",
      "\tcom.google.code.findbugs#jsr305;3.0.1 from central in [default]\n",
      "\tcom.google.code.gson#gson;2.3 from central in [default]\n",
      "\tcom.google.protobuf#protobuf-java;3.0.0-beta-3 from central in [default]\n",
      "\tcom.google.protobuf#protobuf-java-util;3.0.0-beta-3 from central in [default]\n",
      "\tcom.johnsnowlabs.nlp#spark-nlp_2.12;3.4.2 from central in [default]\n",
      "\tcom.johnsnowlabs.nlp#tensorflow-cpu_2.12;0.3.3 from central in [default]\n",
      "\tcom.navigamez#greex;1.0 from central in [default]\n",
      "\tcom.typesafe#config;1.4.1 from central in [default]\n",
      "\tdk.brics.automaton#automaton;1.11-8 from central in [default]\n",
      "\tit.unimi.dsi#fastutil;7.0.12 from central in [default]\n",
      "\tjoda-time#joda-time;2.9.5 from central in [default]\n",
      "\tnet.jcip#jcip-annotations;1.0 from central in [default]\n",
      "\tnet.sf.trove4j#trove4j;3.0.3 from central in [default]\n",
      "\torg.joda#joda-convert;1.8.1 from central in [default]\n",
      "\torg.json4s#json4s-ext_2.12;3.5.3 from central in [default]\n",
      "\torg.projectlombok#lombok;1.16.8 from central in [default]\n",
      "\torg.rocksdb#rocksdbjni;6.5.3 from central in [default]\n",
      "\torg.slf4j#slf4j-api;1.7.21 from central in [default]\n",
      "\t---------------------------------------------------------------------\n",
      "\t|                  |            modules            ||   artifacts   |\n",
      "\t|       conf       | number| search|dwnlded|evicted|| number|dwnlded|\n",
      "\t---------------------------------------------------------------------\n",
      "\t|      default     |   21  |   0   |   0   |   0   ||   21  |   0   |\n",
      "\t---------------------------------------------------------------------\n",
      ":: retrieving :: org.apache.spark#spark-submit-parent-0104c778-5a9b-49e4-974d-20e54712b3ae\n",
      "\tconfs: [default]\n",
      "\t0 artifacts copied, 21 already retrieved (0kB/15ms)\n",
      "Setting default log level to \"WARN\".\n",
      "To adjust logging level use sc.setLogLevel(newLevel). For SparkR, use setLogLevel(newLevel).\n",
      "22/05/04 00:16:28 WARN Client: Neither spark.yarn.jars nor spark.yarn.archive is set, falling back to uploading libraries under SPARK_HOME.\n",
      "22/05/04 00:16:32 WARN Client: Same path resource file:///home/hadoop/.ivy2/jars/com.johnsnowlabs.nlp_spark-nlp_2.12-3.4.2.jar added multiple times to distributed cache.\n",
      "22/05/04 00:16:32 WARN Client: Same path resource file:///home/hadoop/.ivy2/jars/com.typesafe_config-1.4.1.jar added multiple times to distributed cache.\n",
      "22/05/04 00:16:32 WARN Client: Same path resource file:///home/hadoop/.ivy2/jars/org.rocksdb_rocksdbjni-6.5.3.jar added multiple times to distributed cache.\n",
      "22/05/04 00:16:32 WARN Client: Same path resource file:///home/hadoop/.ivy2/jars/com.amazonaws_aws-java-sdk-bundle-1.11.603.jar added multiple times to distributed cache.\n",
      "22/05/04 00:16:32 WARN Client: Same path resource file:///home/hadoop/.ivy2/jars/com.github.universal-automata_liblevenshtein-3.0.0.jar added multiple times to distributed cache.\n",
      "22/05/04 00:16:32 WARN Client: Same path resource file:///home/hadoop/.ivy2/jars/com.navigamez_greex-1.0.jar added multiple times to distributed cache.\n",
      "22/05/04 00:16:32 WARN Client: Same path resource file:///home/hadoop/.ivy2/jars/org.json4s_json4s-ext_2.12-3.5.3.jar added multiple times to distributed cache.\n",
      "22/05/04 00:16:32 WARN Client: Same path resource file:///home/hadoop/.ivy2/jars/com.johnsnowlabs.nlp_tensorflow-cpu_2.12-0.3.3.jar added multiple times to distributed cache.\n",
      "22/05/04 00:16:32 WARN Client: Same path resource file:///home/hadoop/.ivy2/jars/net.sf.trove4j_trove4j-3.0.3.jar added multiple times to distributed cache.\n",
      "22/05/04 00:16:32 WARN Client: Same path resource file:///home/hadoop/.ivy2/jars/com.google.code.findbugs_annotations-3.0.1.jar added multiple times to distributed cache.\n",
      "22/05/04 00:16:32 WARN Client: Same path resource file:///home/hadoop/.ivy2/jars/com.google.protobuf_protobuf-java-util-3.0.0-beta-3.jar added multiple times to distributed cache.\n",
      "22/05/04 00:16:32 WARN Client: Same path resource file:///home/hadoop/.ivy2/jars/com.google.protobuf_protobuf-java-3.0.0-beta-3.jar added multiple times to distributed cache.\n",
      "22/05/04 00:16:32 WARN Client: Same path resource file:///home/hadoop/.ivy2/jars/it.unimi.dsi_fastutil-7.0.12.jar added multiple times to distributed cache.\n",
      "22/05/04 00:16:32 WARN Client: Same path resource file:///home/hadoop/.ivy2/jars/org.projectlombok_lombok-1.16.8.jar added multiple times to distributed cache.\n",
      "22/05/04 00:16:32 WARN Client: Same path resource file:///home/hadoop/.ivy2/jars/org.slf4j_slf4j-api-1.7.21.jar added multiple times to distributed cache.\n",
      "22/05/04 00:16:32 WARN Client: Same path resource file:///home/hadoop/.ivy2/jars/net.jcip_jcip-annotations-1.0.jar added multiple times to distributed cache.\n",
      "22/05/04 00:16:32 WARN Client: Same path resource file:///home/hadoop/.ivy2/jars/com.google.code.findbugs_jsr305-3.0.1.jar added multiple times to distributed cache.\n",
      "22/05/04 00:16:32 WARN Client: Same path resource file:///home/hadoop/.ivy2/jars/com.google.code.gson_gson-2.3.jar added multiple times to distributed cache.\n",
      "22/05/04 00:16:32 WARN Client: Same path resource file:///home/hadoop/.ivy2/jars/dk.brics.automaton_automaton-1.11-8.jar added multiple times to distributed cache.\n",
      "22/05/04 00:16:32 WARN Client: Same path resource file:///home/hadoop/.ivy2/jars/joda-time_joda-time-2.9.5.jar added multiple times to distributed cache.\n",
      "22/05/04 00:16:32 WARN Client: Same path resource file:///home/hadoop/.ivy2/jars/org.joda_joda-convert-1.8.1.jar added multiple times to distributed cache.\n"
     ]
    }
   ],
   "source": [
    "# Starting spark session\n",
    "spark = SparkSession.builder \\\n",
    "        .appName(\"RedditML\") \\\n",
    "        .config(\"spark.serializer\", \"org.apache.spark.serializer.KryoSerializer\") \\\n",
    "        .config(\"spark.jars.packages\", \"com.johnsnowlabs.nlp:spark-nlp_2.12:3.4.2\") \\\n",
    "    .master('yarn') \\\n",
    "    .getOrCreate()"
   ]
  },
  {
   "cell_type": "code",
   "execution_count": 4,
   "id": "4e297b70-6e33-4a0b-bc43-939c070f2554",
   "metadata": {},
   "outputs": [
    {
     "data": {
      "text/html": [
       "\n",
       "            <div>\n",
       "                <p><b>SparkSession - in-memory</b></p>\n",
       "                \n",
       "        <div>\n",
       "            <p><b>SparkContext</b></p>\n",
       "\n",
       "            <p><a href=\"http://ip-172-31-33-188.ec2.internal:4040\">Spark UI</a></p>\n",
       "\n",
       "            <dl>\n",
       "              <dt>Version</dt>\n",
       "                <dd><code>v3.0.0-amzn-0</code></dd>\n",
       "              <dt>Master</dt>\n",
       "                <dd><code>yarn</code></dd>\n",
       "              <dt>AppName</dt>\n",
       "                <dd><code>RedditML</code></dd>\n",
       "            </dl>\n",
       "        </div>\n",
       "        \n",
       "            </div>\n",
       "        "
      ],
      "text/plain": [
       "<pyspark.sql.session.SparkSession at 0x7fd274152690>"
      ]
     },
     "execution_count": 4,
     "metadata": {},
     "output_type": "execute_result"
    }
   ],
   "source": [
    "spark"
   ]
  },
  {
   "cell_type": "code",
   "execution_count": 5,
   "id": "d0ddbc33-be1d-4f29-bd34-f35820baccf1",
   "metadata": {},
   "outputs": [
    {
     "name": "stdout",
     "output_type": "stream",
     "text": [
      "Requirement already satisfied: sparknlp in /mnt/miniconda/lib/python3.7/site-packages (1.0.0)\n",
      "Requirement already satisfied: spark-nlp in /mnt/miniconda/lib/python3.7/site-packages (from sparknlp) (3.4.3)\n",
      "Requirement already satisfied: numpy in /mnt/miniconda/lib/python3.7/site-packages (from sparknlp) (1.21.2)\n",
      "Requirement already satisfied: altair in /mnt/miniconda/lib/python3.7/site-packages (4.2.0)\n",
      "Requirement already satisfied: jinja2 in /mnt/miniconda/lib/python3.7/site-packages (from altair) (3.0.3)\n",
      "Requirement already satisfied: pandas>=0.18 in /mnt/miniconda/lib/python3.7/site-packages (from altair) (1.3.5)\n",
      "Requirement already satisfied: jsonschema>=3.0 in /mnt/miniconda/lib/python3.7/site-packages (from altair) (4.4.0)\n",
      "Requirement already satisfied: entrypoints in /mnt/miniconda/lib/python3.7/site-packages (from altair) (0.4)\n",
      "Requirement already satisfied: numpy in /mnt/miniconda/lib/python3.7/site-packages (from altair) (1.21.2)\n",
      "Requirement already satisfied: toolz in /mnt/miniconda/lib/python3.7/site-packages (from altair) (0.11.2)\n",
      "Requirement already satisfied: pyrsistent!=0.17.0,!=0.17.1,!=0.17.2,>=0.14.0 in /mnt/miniconda/lib/python3.7/site-packages (from jsonschema>=3.0->altair) (0.18.0)\n",
      "Requirement already satisfied: importlib-metadata in /mnt/miniconda/lib/python3.7/site-packages (from jsonschema>=3.0->altair) (4.8.2)\n",
      "Requirement already satisfied: attrs>=17.4.0 in /mnt/miniconda/lib/python3.7/site-packages (from jsonschema>=3.0->altair) (21.4.0)\n",
      "Requirement already satisfied: importlib-resources>=1.4.0 in /mnt/miniconda/lib/python3.7/site-packages (from jsonschema>=3.0->altair) (5.2.0)\n",
      "Requirement already satisfied: typing-extensions in /mnt/miniconda/lib/python3.7/site-packages (from jsonschema>=3.0->altair) (3.10.0.2)\n",
      "Requirement already satisfied: zipp>=3.1.0 in /mnt/miniconda/lib/python3.7/site-packages (from importlib-resources>=1.4.0->jsonschema>=3.0->altair) (3.7.0)\n",
      "Requirement already satisfied: python-dateutil>=2.7.3 in /mnt/miniconda/lib/python3.7/site-packages (from pandas>=0.18->altair) (2.8.2)\n",
      "Requirement already satisfied: pytz>=2017.3 in /mnt/miniconda/lib/python3.7/site-packages (from pandas>=0.18->altair) (2021.3)\n",
      "Requirement already satisfied: six>=1.5 in /mnt/miniconda/lib/python3.7/site-packages (from python-dateutil>=2.7.3->pandas>=0.18->altair) (1.16.0)\n",
      "Requirement already satisfied: MarkupSafe>=2.0 in /mnt/miniconda/lib/python3.7/site-packages (from jinja2->altair) (2.0.1)\n",
      "Requirement already satisfied: imageio in /mnt/miniconda/lib/python3.7/site-packages (2.19.0)\n",
      "Requirement already satisfied: numpy in /mnt/miniconda/lib/python3.7/site-packages (from imageio) (1.21.2)\n",
      "Requirement already satisfied: pillow>=8.3.2 in /mnt/miniconda/lib/python3.7/site-packages (from imageio) (9.0.1)\n",
      "\u001b[31mERROR: Could not find a version that satisfies the requirement collections (from versions: none)\u001b[0m\n",
      "\u001b[31mERROR: No matching distribution found for collections\u001b[0m\n",
      "Requirement already satisfied: wordcloud in /mnt/miniconda/lib/python3.7/site-packages (1.8.1)\n",
      "Requirement already satisfied: numpy>=1.6.1 in /mnt/miniconda/lib/python3.7/site-packages (from wordcloud) (1.21.2)\n",
      "Requirement already satisfied: pillow in /mnt/miniconda/lib/python3.7/site-packages (from wordcloud) (9.0.1)\n",
      "Requirement already satisfied: matplotlib in /mnt/miniconda/lib/python3.7/site-packages (from wordcloud) (3.5.1)\n",
      "Requirement already satisfied: cycler>=0.10 in /mnt/miniconda/lib/python3.7/site-packages (from matplotlib->wordcloud) (0.11.0)\n",
      "Requirement already satisfied: python-dateutil>=2.7 in /mnt/miniconda/lib/python3.7/site-packages (from matplotlib->wordcloud) (2.8.2)\n",
      "Requirement already satisfied: fonttools>=4.22.0 in /mnt/miniconda/lib/python3.7/site-packages (from matplotlib->wordcloud) (4.25.0)\n",
      "Requirement already satisfied: pyparsing>=2.2.1 in /mnt/miniconda/lib/python3.7/site-packages (from matplotlib->wordcloud) (3.0.4)\n",
      "Requirement already satisfied: packaging>=20.0 in /mnt/miniconda/lib/python3.7/site-packages (from matplotlib->wordcloud) (21.3)\n",
      "Requirement already satisfied: kiwisolver>=1.0.1 in /mnt/miniconda/lib/python3.7/site-packages (from matplotlib->wordcloud) (1.3.2)\n",
      "Requirement already satisfied: six>=1.5 in /mnt/miniconda/lib/python3.7/site-packages (from python-dateutil>=2.7->matplotlib->wordcloud) (1.16.0)\n"
     ]
    }
   ],
   "source": [
    "!/mnt/miniconda/bin/pip install sparknlp\n",
    "!/mnt/miniconda/bin/pip install altair\n",
    "!/mnt/miniconda/bin/pip install imageio\n",
    "!/mnt/miniconda/bin/pip install collections\n",
    "!/mnt/miniconda/bin/pip install wordcloud"
   ]
  },
  {
   "cell_type": "code",
   "execution_count": 6,
   "id": "2d27fdd4-6586-4dad-a2be-2d074acdbbc6",
   "metadata": {},
   "outputs": [],
   "source": [
    "import pandas as pd\n",
    "import numpy as np\n",
    "import json\n",
    "from pyspark.ml import Pipeline\n",
    "from pyspark.sql import SparkSession\n",
    "import pyspark.sql.functions as F"
   ]
  },
  {
   "cell_type": "code",
   "execution_count": 7,
   "id": "7baf00d2-0fb0-40fb-970f-0de920bc2a0a",
   "metadata": {},
   "outputs": [],
   "source": [
    "import altair as alt"
   ]
  },
  {
   "cell_type": "markdown",
   "id": "70375c74-9556-4b7c-b674-49072e816269",
   "metadata": {},
   "source": [
    "## Basic Data Checks"
   ]
  },
  {
   "cell_type": "code",
   "execution_count": 9,
   "id": "0e2068d6-dfff-44c7-bfaa-e5c1d1abf7be",
   "metadata": {},
   "outputs": [
    {
     "name": "stderr",
     "output_type": "stream",
     "text": [
      "                                                                                \r"
     ]
    }
   ],
   "source": [
    "reddit_eda = spark.read.parquet('s3://aa2464-labdata2/reddit-eda')"
   ]
  },
  {
   "cell_type": "code",
   "execution_count": 8,
   "id": "dfc0b90f-485a-4930-9e88-a55e8e79686a",
   "metadata": {},
   "outputs": [
    {
     "name": "stderr",
     "output_type": "stream",
     "text": [
      "                                                                                \r"
     ]
    }
   ],
   "source": [
    "reddit_sentiment = spark.read.parquet('s3://aa2464-labdata2/reddit-sentiment2/')"
   ]
  },
  {
   "cell_type": "code",
   "execution_count": 9,
   "id": "78e835b4-8406-4493-be63-fee898fce7a7",
   "metadata": {},
   "outputs": [
    {
     "name": "stdout",
     "output_type": "stream",
     "text": [
      "root\n",
      " |-- document: string (nullable = true)\n",
      " |-- sarcasm_class: string (nullable = true)\n",
      " |-- sarcasm_value: double (nullable = true)\n",
      " |-- sentiment_class: string (nullable = true)\n",
      " |-- sentiment_value: double (nullable = true)\n",
      " |-- emotion_class: string (nullable = true)\n",
      " |-- score: long (nullable = true)\n",
      " |-- gilded: long (nullable = true)\n",
      " |-- controversiality: long (nullable = true)\n",
      " |-- Awards: string (nullable = true)\n",
      " |-- Jokes: string (nullable = true)\n",
      " |-- Covid: string (nullable = true)\n",
      " |-- created_date: string (nullable = true)\n",
      " |-- is_weekend: integer (nullable = true)\n",
      " |-- reddit_age_post: integer (nullable = true)\n",
      " |-- is_award: integer (nullable = true)\n",
      "\n"
     ]
    }
   ],
   "source": [
    "reddit_sentiment.printSchema()"
   ]
  },
  {
   "cell_type": "code",
   "execution_count": 11,
   "id": "926b019e-80db-4ea7-b147-e842c3a803d0",
   "metadata": {},
   "outputs": [
    {
     "name": "stdout",
     "output_type": "stream",
     "text": [
      "root\n",
      " |-- all_awardings: string (nullable = true)\n",
      " |-- associated_award: string (nullable = true)\n",
      " |-- author: string (nullable = true)\n",
      " |-- author_created_utc: double (nullable = true)\n",
      " |-- author_flair_richtext: string (nullable = true)\n",
      " |-- author_flair_text: string (nullable = true)\n",
      " |-- author_flair_text_color: string (nullable = true)\n",
      " |-- author_flair_type: string (nullable = true)\n",
      " |-- author_fullname: string (nullable = true)\n",
      " |-- author_patreon_flair: boolean (nullable = true)\n",
      " |-- author_premium: boolean (nullable = true)\n",
      " |-- awarders: string (nullable = true)\n",
      " |-- body: string (nullable = true)\n",
      " |-- can_gild: boolean (nullable = true)\n",
      " |-- can_mod_post: boolean (nullable = true)\n",
      " |-- collapsed: boolean (nullable = true)\n",
      " |-- controversiality: long (nullable = true)\n",
      " |-- created_utc: long (nullable = true)\n",
      " |-- distinguished: string (nullable = true)\n",
      " |-- gilded: long (nullable = true)\n",
      " |-- gildings: string (nullable = true)\n",
      " |-- id: string (nullable = true)\n",
      " |-- is_submitter: boolean (nullable = true)\n",
      " |-- link_id: string (nullable = true)\n",
      " |-- locked: boolean (nullable = true)\n",
      " |-- no_follow: boolean (nullable = true)\n",
      " |-- parent_id: string (nullable = true)\n",
      " |-- permalink: string (nullable = true)\n",
      " |-- quarantined: boolean (nullable = true)\n",
      " |-- retrieved_on: long (nullable = true)\n",
      " |-- score: long (nullable = true)\n",
      " |-- send_replies: boolean (nullable = true)\n",
      " |-- stickied: boolean (nullable = true)\n",
      " |-- subreddit_id: string (nullable = true)\n",
      " |-- subreddit_name_prefixed: string (nullable = true)\n",
      " |-- subreddit_type: string (nullable = true)\n",
      " |-- total_awards_received: long (nullable = true)\n",
      " |-- treatment_tags: string (nullable = true)\n",
      " |-- editable: boolean (nullable = true)\n",
      " |-- ym_partition: integer (nullable = true)\n",
      " |-- filename: string (nullable = true)\n",
      " |-- length_body: integer (nullable = true)\n",
      " |-- author_created_date: string (nullable = true)\n",
      " |-- created_date: string (nullable = true)\n",
      " |-- reddit_age_post: integer (nullable = true)\n",
      " |-- Awards: string (nullable = true)\n",
      " |-- Partition: string (nullable = true)\n",
      " |-- is_weekend: integer (nullable = true)\n",
      " |-- hour_post: integer (nullable = true)\n",
      " |-- month_post: integer (nullable = true)\n",
      " |-- year_post: integer (nullable = true)\n",
      " |-- body_count: integer (nullable = true)\n",
      " |-- Jokes: string (nullable = true)\n",
      " |-- Finance: string (nullable = true)\n",
      " |-- Covid: string (nullable = true)\n",
      " |-- Sports: string (nullable = true)\n",
      "\n"
     ]
    }
   ],
   "source": [
    "reddit_eda.printSchema()"
   ]
  },
  {
   "cell_type": "code",
   "execution_count": 12,
   "id": "a5c0a4e0-0ca3-46e8-81a5-994f88052e67",
   "metadata": {},
   "outputs": [
    {
     "name": "stderr",
     "output_type": "stream",
     "text": [
      "                                                                                \r"
     ]
    },
    {
     "data": {
      "text/plain": [
       "7373839"
      ]
     },
     "execution_count": 12,
     "metadata": {},
     "output_type": "execute_result"
    }
   ],
   "source": [
    "reddit_sentiment.count()"
   ]
  },
  {
   "cell_type": "markdown",
   "id": "ddf53521-a88f-499c-b599-691e9e97acb5",
   "metadata": {},
   "source": [
    "### Business Goal 1 : Which topic do the comments belong to?"
   ]
  },
  {
   "cell_type": "markdown",
   "id": "5ee236e7-0979-4c0a-ad61-a73352baff43",
   "metadata": {},
   "source": [
    "Technical : We will run 2 models to achieve this. First is K means clustering which will be used to determine the optimal number of clusters using the Elbow method. USing this number w e welill cluster our comemnts using LDA"
   ]
  },
  {
   "cell_type": "markdown",
   "id": "ad343d34-b154-4fdb-8db1-808074f2455c",
   "metadata": {},
   "source": [
    "#### K Means Clustering"
   ]
  },
  {
   "cell_type": "markdown",
   "id": "f0b93752-972b-4e1b-8733-c2312daab966",
   "metadata": {},
   "source": [
    "##### Building Pipeline for prep"
   ]
  },
  {
   "cell_type": "code",
   "execution_count": 10,
   "id": "5fc1a8d4-4cb9-4592-8726-63a63f8f9d8c",
   "metadata": {},
   "outputs": [],
   "source": [
    "from sparknlp.base import DocumentAssembler,Finisher\n",
    "from sparknlp.annotator import Tokenizer,StopWordsCleaner\n",
    "from pyspark.ml.feature import StopWordsRemover\n",
    "from pyspark.ml.feature import CountVectorizer"
   ]
  },
  {
   "cell_type": "code",
   "execution_count": 11,
   "id": "2ddc9ed4-44ee-49b9-80cb-287bb3101ab3",
   "metadata": {},
   "outputs": [],
   "source": [
    "documentAssembler = DocumentAssembler()\\\n",
    "    .setInputCol(\"document\")\\\n",
    "    .setOutputCol(\"document2\")"
   ]
  },
  {
   "cell_type": "code",
   "execution_count": 12,
   "id": "92093fec-1ad2-456e-b71f-df09e709027f",
   "metadata": {},
   "outputs": [],
   "source": [
    "# Tokenizer to break words\n",
    "tokenizer = Tokenizer() \\\n",
    "     .setInputCols(['document2']) \\\n",
    "     .setOutputCol('token')"
   ]
  },
  {
   "cell_type": "code",
   "execution_count": 16,
   "id": "d7e83dc7-cd58-43cb-b68f-ae8ae55d09a1",
   "metadata": {},
   "outputs": [],
   "source": [
    "def get_stopwords_list(stop_file_path):\n",
    "    \"\"\"load stop words \"\"\"\n",
    "    \n",
    "    with open(stop_file_path, 'r', encoding=\"utf-8\") as f:\n",
    "        stopwords = f.readlines()\n",
    "        stop_set = set(m.strip() for m in stopwords)\n",
    "        return list(frozenset(stop_set))"
   ]
  },
  {
   "cell_type": "code",
   "execution_count": 17,
   "id": "166c831f-746e-46ea-b606-0e126c7c8053",
   "metadata": {},
   "outputs": [],
   "source": [
    "stopwords_path = \"data_extra/english_stopwords.txt\"\n",
    "stopwords = get_stopwords_list(stopwords_path)"
   ]
  },
  {
   "cell_type": "code",
   "execution_count": 18,
   "id": "66c67a20-96d6-483a-b81e-0888ce66452b",
   "metadata": {},
   "outputs": [],
   "source": [
    "stopwords_custom1 = ['abc']"
   ]
  },
  {
   "cell_type": "code",
   "execution_count": 19,
   "id": "f12b7508-169a-4351-9652-7b6655d410a3",
   "metadata": {},
   "outputs": [],
   "source": [
    "# Remove Stopwords\n",
    "stopwords_cleaner = StopWordsCleaner() \\\n",
    "     .setInputCols(['token']) \\\n",
    "     .setOutputCol('clean_token') \\\n",
    "     .setStopWords(stopwords)"
   ]
  },
  {
   "cell_type": "code",
   "execution_count": 20,
   "id": "8e1de61b-be46-4840-883c-0bf3cbf9cb62",
   "metadata": {},
   "outputs": [],
   "source": [
    "finisher = Finisher() \\\n",
    "    .setInputCols([\"clean_token\"]) \\\n",
    "    .setOutputCols([\"final\"]) \\\n",
    "    .setOutputAsArray(True) \\\n",
    "    .setCleanAnnotations(False)"
   ]
  },
  {
   "cell_type": "markdown",
   "id": "206b94e2-edde-48c0-8bdc-ca7c0cd4cbaa",
   "metadata": {},
   "source": [
    "Fitting the pipeline on empty data frame"
   ]
  },
  {
   "cell_type": "code",
   "execution_count": 21,
   "id": "c8227863-390a-49ec-b2d1-6855f07da765",
   "metadata": {},
   "outputs": [],
   "source": [
    "pipeline = Pipeline() \\\n",
    "     .setStages([\n",
    "           documentAssembler,\n",
    "           tokenizer,\n",
    "           stopwords_cleaner,\n",
    "           finisher\n",
    "     ])"
   ]
  },
  {
   "cell_type": "code",
   "execution_count": 22,
   "id": "49776c12-c2ae-4422-a8c8-5a0f8ba4a5a2",
   "metadata": {},
   "outputs": [],
   "source": [
    "empty_df = spark.createDataFrame([['']]).toDF(\"document\")\n",
    "pipelineModel = pipeline.fit(empty_df)"
   ]
  },
  {
   "cell_type": "code",
   "execution_count": 23,
   "id": "5c747380-1ab5-4ace-b93a-5940a79f01fc",
   "metadata": {},
   "outputs": [],
   "source": [
    "vectorised_reddit_comments = pipelineModel.transform(reddit_sentiment)"
   ]
  },
  {
   "cell_type": "code",
   "execution_count": 24,
   "id": "f0cab11c-a673-4c52-85ac-2162302c2024",
   "metadata": {},
   "outputs": [
    {
     "name": "stdout",
     "output_type": "stream",
     "text": [
      "root\n",
      " |-- document: string (nullable = true)\n",
      " |-- sarcasm_class: string (nullable = true)\n",
      " |-- sarcasm_value: double (nullable = true)\n",
      " |-- sentiment_class: string (nullable = true)\n",
      " |-- sentiment_value: double (nullable = true)\n",
      " |-- emotion_class: string (nullable = true)\n",
      " |-- score: long (nullable = true)\n",
      " |-- gilded: long (nullable = true)\n",
      " |-- controversiality: long (nullable = true)\n",
      " |-- Awards: string (nullable = true)\n",
      " |-- Jokes: string (nullable = true)\n",
      " |-- Covid: string (nullable = true)\n",
      " |-- created_date: string (nullable = true)\n",
      " |-- is_weekend: integer (nullable = true)\n",
      " |-- reddit_age_post: integer (nullable = true)\n",
      " |-- is_award: integer (nullable = true)\n",
      " |-- document2: array (nullable = true)\n",
      " |    |-- element: struct (containsNull = true)\n",
      " |    |    |-- annotatorType: string (nullable = true)\n",
      " |    |    |-- begin: integer (nullable = false)\n",
      " |    |    |-- end: integer (nullable = false)\n",
      " |    |    |-- result: string (nullable = true)\n",
      " |    |    |-- metadata: map (nullable = true)\n",
      " |    |    |    |-- key: string\n",
      " |    |    |    |-- value: string (valueContainsNull = true)\n",
      " |    |    |-- embeddings: array (nullable = true)\n",
      " |    |    |    |-- element: float (containsNull = false)\n",
      " |-- token: array (nullable = true)\n",
      " |    |-- element: struct (containsNull = true)\n",
      " |    |    |-- annotatorType: string (nullable = true)\n",
      " |    |    |-- begin: integer (nullable = false)\n",
      " |    |    |-- end: integer (nullable = false)\n",
      " |    |    |-- result: string (nullable = true)\n",
      " |    |    |-- metadata: map (nullable = true)\n",
      " |    |    |    |-- key: string\n",
      " |    |    |    |-- value: string (valueContainsNull = true)\n",
      " |    |    |-- embeddings: array (nullable = true)\n",
      " |    |    |    |-- element: float (containsNull = false)\n",
      " |-- clean_token: array (nullable = true)\n",
      " |    |-- element: struct (containsNull = true)\n",
      " |    |    |-- annotatorType: string (nullable = true)\n",
      " |    |    |-- begin: integer (nullable = false)\n",
      " |    |    |-- end: integer (nullable = false)\n",
      " |    |    |-- result: string (nullable = true)\n",
      " |    |    |-- metadata: map (nullable = true)\n",
      " |    |    |    |-- key: string\n",
      " |    |    |    |-- value: string (valueContainsNull = true)\n",
      " |    |    |-- embeddings: array (nullable = true)\n",
      " |    |    |    |-- element: float (containsNull = false)\n",
      " |-- final: array (nullable = true)\n",
      " |    |-- element: string (containsNull = true)\n",
      "\n"
     ]
    }
   ],
   "source": [
    "vectorised_reddit_comments.printSchema()"
   ]
  },
  {
   "cell_type": "code",
   "execution_count": 25,
   "id": "f89c9e2a-cbb0-4dfb-9da3-dcc3d9a46fae",
   "metadata": {},
   "outputs": [],
   "source": [
    "cleaned_reddit_comments = vectorised_reddit_comments.withColumn(\"text\", F.concat_ws(\" \", \"final\"))"
   ]
  },
  {
   "cell_type": "code",
   "execution_count": 26,
   "id": "1683c658-83b2-44e4-8096-542ea22be005",
   "metadata": {},
   "outputs": [],
   "source": [
    "lem_comments = cleaned_reddit_comments.select(cleaned_reddit_comments.final)"
   ]
  },
  {
   "cell_type": "code",
   "execution_count": 27,
   "id": "e071cf79-4802-48c1-82c3-8c0a019ff35b",
   "metadata": {},
   "outputs": [],
   "source": [
    "important_words = lem_comments.withColumn('final', F.explode(col('final')))"
   ]
  },
  {
   "cell_type": "code",
   "execution_count": 28,
   "id": "12b78251-591a-4642-bbc6-25a8ae5f3220",
   "metadata": {},
   "outputs": [],
   "source": [
    "count_words = important_words.groupby('final').count().sort('count', ascending=False)"
   ]
  },
  {
   "cell_type": "code",
   "execution_count": 29,
   "id": "dd376172-7ea6-4886-9b7e-05380b6b3ec4",
   "metadata": {},
   "outputs": [
    {
     "name": "stderr",
     "output_type": "stream",
     "text": [
      "[Stage 3:>                                                        (0 + 24) / 26]\r"
     ]
    },
    {
     "name": "stdout",
     "output_type": "stream",
     "text": [
      "+--------+-------+\n",
      "|   final|  count|\n",
      "+--------+-------+\n",
      "|  people|1352441|\n",
      "|question| 798711|\n",
      "|    time| 698895|\n",
      "|    feel| 452123|\n",
      "|     lot| 415667|\n",
      "|     day| 314317|\n",
      "|    life| 291745|\n",
      "|  person| 276022|\n",
      "|  reason| 274265|\n",
      "|     bad| 270173|\n",
      "+--------+-------+\n",
      "only showing top 10 rows\n",
      "\n"
     ]
    },
    {
     "name": "stderr",
     "output_type": "stream",
     "text": [
      "                                                                                \r"
     ]
    }
   ],
   "source": [
    "count_words.show(10)"
   ]
  },
  {
   "cell_type": "code",
   "execution_count": 30,
   "id": "73125277-f260-4a49-a7bb-a92deb61e09d",
   "metadata": {},
   "outputs": [],
   "source": [
    "count_words2 = count_words.limit(1000)"
   ]
  },
  {
   "cell_type": "code",
   "execution_count": 31,
   "id": "d889fc5a-91a6-4cf1-9130-0e26af30f027",
   "metadata": {},
   "outputs": [
    {
     "name": "stderr",
     "output_type": "stream",
     "text": [
      "                                                                                \r"
     ]
    }
   ],
   "source": [
    "count_words2_df = count_words2.toPandas()"
   ]
  },
  {
   "cell_type": "code",
   "execution_count": 32,
   "id": "3438f6d5-4e87-4aef-8ce8-f631f266a13c",
   "metadata": {},
   "outputs": [
    {
     "data": {
      "text/html": [
       "<div>\n",
       "<style scoped>\n",
       "    .dataframe tbody tr th:only-of-type {\n",
       "        vertical-align: middle;\n",
       "    }\n",
       "\n",
       "    .dataframe tbody tr th {\n",
       "        vertical-align: top;\n",
       "    }\n",
       "\n",
       "    .dataframe thead th {\n",
       "        text-align: right;\n",
       "    }\n",
       "</style>\n",
       "<table border=\"1\" class=\"dataframe\">\n",
       "  <thead>\n",
       "    <tr style=\"text-align: right;\">\n",
       "      <th></th>\n",
       "      <th>final</th>\n",
       "      <th>count</th>\n",
       "    </tr>\n",
       "  </thead>\n",
       "  <tbody>\n",
       "    <tr>\n",
       "      <th>0</th>\n",
       "      <td>people</td>\n",
       "      <td>1352441</td>\n",
       "    </tr>\n",
       "    <tr>\n",
       "      <th>1</th>\n",
       "      <td>question</td>\n",
       "      <td>798711</td>\n",
       "    </tr>\n",
       "    <tr>\n",
       "      <th>2</th>\n",
       "      <td>time</td>\n",
       "      <td>698895</td>\n",
       "    </tr>\n",
       "    <tr>\n",
       "      <th>3</th>\n",
       "      <td>feel</td>\n",
       "      <td>452123</td>\n",
       "    </tr>\n",
       "    <tr>\n",
       "      <th>4</th>\n",
       "      <td>lot</td>\n",
       "      <td>415667</td>\n",
       "    </tr>\n",
       "    <tr>\n",
       "      <th>...</th>\n",
       "      <td>...</td>\n",
       "      <td>...</td>\n",
       "    </tr>\n",
       "    <tr>\n",
       "      <th>995</th>\n",
       "      <td>politician</td>\n",
       "      <td>16961</td>\n",
       "    </tr>\n",
       "    <tr>\n",
       "      <th>996</th>\n",
       "      <td>imply</td>\n",
       "      <td>16949</td>\n",
       "    </tr>\n",
       "    <tr>\n",
       "      <th>997</th>\n",
       "      <td>minor</td>\n",
       "      <td>16940</td>\n",
       "    </tr>\n",
       "    <tr>\n",
       "      <th>998</th>\n",
       "      <td>meme</td>\n",
       "      <td>16890</td>\n",
       "    </tr>\n",
       "    <tr>\n",
       "      <th>999</th>\n",
       "      <td>relative</td>\n",
       "      <td>16874</td>\n",
       "    </tr>\n",
       "  </tbody>\n",
       "</table>\n",
       "<p>1000 rows × 2 columns</p>\n",
       "</div>"
      ],
      "text/plain": [
       "          final    count\n",
       "0        people  1352441\n",
       "1      question   798711\n",
       "2          time   698895\n",
       "3          feel   452123\n",
       "4           lot   415667\n",
       "..          ...      ...\n",
       "995  politician    16961\n",
       "996       imply    16949\n",
       "997       minor    16940\n",
       "998        meme    16890\n",
       "999    relative    16874\n",
       "\n",
       "[1000 rows x 2 columns]"
      ]
     },
     "execution_count": 32,
     "metadata": {},
     "output_type": "execute_result"
    }
   ],
   "source": [
    "count_words2_df"
   ]
  },
  {
   "cell_type": "code",
   "execution_count": null,
   "id": "fddbcf0e-593e-43c6-95d4-52ed9e76aba7",
   "metadata": {},
   "outputs": [],
   "source": []
  },
  {
   "cell_type": "code",
   "execution_count": null,
   "id": "32a47d43-0c8d-441f-b1aa-88d57ee32ca3",
   "metadata": {},
   "outputs": [],
   "source": []
  },
  {
   "cell_type": "code",
   "execution_count": 29,
   "id": "ed0b2e6a-9da9-4b25-82ce-510f4299288d",
   "metadata": {},
   "outputs": [],
   "source": [
    "mask = imread('plots/images/reddit_logo.png')"
   ]
  },
  {
   "cell_type": "code",
   "execution_count": 33,
   "id": "7ec88b7f-508a-4f84-bc30-f4eab982747a",
   "metadata": {},
   "outputs": [
    {
     "ename": "NameError",
     "evalue": "name 'WordCloud' is not defined",
     "output_type": "error",
     "traceback": [
      "\u001b[0;31m---------------------------------------------------------------------------\u001b[0m",
      "\u001b[0;31mNameError\u001b[0m                                 Traceback (most recent call last)",
      "\u001b[0;32m/tmp/ipykernel_15801/1765012510.py\u001b[0m in \u001b[0;36m<module>\u001b[0;34m\u001b[0m\n\u001b[1;32m      1\u001b[0m \u001b[0mtext\u001b[0m \u001b[0;34m=\u001b[0m \u001b[0;34m\" \"\u001b[0m\u001b[0;34m.\u001b[0m\u001b[0mjoin\u001b[0m\u001b[0;34m(\u001b[0m\u001b[0mi\u001b[0m \u001b[0;32mfor\u001b[0m \u001b[0mi\u001b[0m \u001b[0;32min\u001b[0m \u001b[0mcount_words2_df\u001b[0m\u001b[0;34m.\u001b[0m\u001b[0mfinal\u001b[0m\u001b[0;34m)\u001b[0m\u001b[0;34m\u001b[0m\u001b[0;34m\u001b[0m\u001b[0m\n\u001b[0;32m----> 2\u001b[0;31m wc = WordCloud(\n\u001b[0m\u001b[1;32m      3\u001b[0m     \u001b[0mmax_words\u001b[0m\u001b[0;34m=\u001b[0m\u001b[0;36m1000\u001b[0m\u001b[0;34m,\u001b[0m\u001b[0;34m\u001b[0m\u001b[0;34m\u001b[0m\u001b[0m\n\u001b[1;32m      4\u001b[0m     background_color='#E7E6E1').generate(text)\n",
      "\u001b[0;31mNameError\u001b[0m: name 'WordCloud' is not defined"
     ]
    }
   ],
   "source": [
    "text = \" \".join(i for i in count_words2_df.final)\n",
    "wc = WordCloud(\n",
    "    max_words=1000,\n",
    "    background_color='#E7E6E1').generate(text)"
   ]
  },
  {
   "cell_type": "code",
   "execution_count": 34,
   "id": "a642120e-6d20-44ef-8c8a-f4cbea315bc9",
   "metadata": {},
   "outputs": [
    {
     "ename": "NameError",
     "evalue": "name 'plt' is not defined",
     "output_type": "error",
     "traceback": [
      "\u001b[0;31m---------------------------------------------------------------------------\u001b[0m",
      "\u001b[0;31mNameError\u001b[0m                                 Traceback (most recent call last)",
      "\u001b[0;32m/tmp/ipykernel_15801/1226932301.py\u001b[0m in \u001b[0;36m<module>\u001b[0;34m\u001b[0m\n\u001b[0;32m----> 1\u001b[0;31m \u001b[0mfig\u001b[0m \u001b[0;34m=\u001b[0m \u001b[0mplt\u001b[0m\u001b[0;34m.\u001b[0m\u001b[0mfigure\u001b[0m\u001b[0;34m(\u001b[0m\u001b[0;34m)\u001b[0m\u001b[0;34m\u001b[0m\u001b[0;34m\u001b[0m\u001b[0m\n\u001b[0m\u001b[1;32m      2\u001b[0m \u001b[0mfig\u001b[0m\u001b[0;34m.\u001b[0m\u001b[0mset_figwidth\u001b[0m\u001b[0;34m(\u001b[0m\u001b[0;36m10\u001b[0m\u001b[0;34m)\u001b[0m\u001b[0;34m\u001b[0m\u001b[0;34m\u001b[0m\u001b[0m\n\u001b[1;32m      3\u001b[0m \u001b[0mfig\u001b[0m\u001b[0;34m.\u001b[0m\u001b[0mset_figheight\u001b[0m\u001b[0;34m(\u001b[0m\u001b[0;36m16\u001b[0m\u001b[0;34m)\u001b[0m\u001b[0;34m\u001b[0m\u001b[0;34m\u001b[0m\u001b[0m\n\u001b[1;32m      4\u001b[0m \u001b[0;34m\u001b[0m\u001b[0m\n\u001b[1;32m      5\u001b[0m \u001b[0mplt\u001b[0m\u001b[0;34m.\u001b[0m\u001b[0mimshow\u001b[0m\u001b[0;34m(\u001b[0m\u001b[0mwc\u001b[0m\u001b[0;34m,\u001b[0m \u001b[0minterpolation\u001b[0m\u001b[0;34m=\u001b[0m\u001b[0;34m'bilinear'\u001b[0m\u001b[0;34m)\u001b[0m\u001b[0;34m\u001b[0m\u001b[0;34m\u001b[0m\u001b[0m\n",
      "\u001b[0;31mNameError\u001b[0m: name 'plt' is not defined"
     ]
    }
   ],
   "source": [
    "fig = plt.figure()\n",
    "fig.set_figwidth(10)\n",
    "fig.set_figheight(16)\n",
    "\n",
    "plt.imshow(wc, interpolation='bilinear')\n",
    "plt.axis('off')\n",
    "plt.savefig('plots/eda/most-words-wordcloud.png', bbox_inches='tight')"
   ]
  },
  {
   "cell_type": "code",
   "execution_count": 35,
   "id": "738f4212-5d4f-46a7-b933-2b7fbd0dae1a",
   "metadata": {},
   "outputs": [
    {
     "name": "stderr",
     "output_type": "stream",
     "text": [
      "                                                                                \r"
     ]
    }
   ],
   "source": [
    "from pyspark.ml.feature import CountVectorizer\n",
    "cv = CountVectorizer(inputCol=\"final\", outputCol=\"features\", vocabSize=500, minDF=3.0)\n",
    "# train the model\n",
    "cv_model = cv.fit(vectorised_reddit_comments)\n",
    "# transform the data. Output column name will be features.\n",
    "vectorized_tokens = cv_model.transform(vectorised_reddit_comments)"
   ]
  },
  {
   "cell_type": "code",
   "execution_count": 36,
   "id": "ab48db9d-7983-4564-a814-d1fa5599aa5d",
   "metadata": {},
   "outputs": [
    {
     "name": "stdout",
     "output_type": "stream",
     "text": [
      "root\n",
      " |-- document: string (nullable = true)\n",
      " |-- sarcasm_class: string (nullable = true)\n",
      " |-- sarcasm_value: double (nullable = true)\n",
      " |-- sentiment_class: string (nullable = true)\n",
      " |-- sentiment_value: double (nullable = true)\n",
      " |-- emotion_class: string (nullable = true)\n",
      " |-- score: long (nullable = true)\n",
      " |-- gilded: long (nullable = true)\n",
      " |-- controversiality: long (nullable = true)\n",
      " |-- Awards: string (nullable = true)\n",
      " |-- Jokes: string (nullable = true)\n",
      " |-- Covid: string (nullable = true)\n",
      " |-- created_date: string (nullable = true)\n",
      " |-- is_weekend: integer (nullable = true)\n",
      " |-- reddit_age_post: integer (nullable = true)\n",
      " |-- is_award: integer (nullable = true)\n",
      " |-- document2: array (nullable = true)\n",
      " |    |-- element: struct (containsNull = true)\n",
      " |    |    |-- annotatorType: string (nullable = true)\n",
      " |    |    |-- begin: integer (nullable = false)\n",
      " |    |    |-- end: integer (nullable = false)\n",
      " |    |    |-- result: string (nullable = true)\n",
      " |    |    |-- metadata: map (nullable = true)\n",
      " |    |    |    |-- key: string\n",
      " |    |    |    |-- value: string (valueContainsNull = true)\n",
      " |    |    |-- embeddings: array (nullable = true)\n",
      " |    |    |    |-- element: float (containsNull = false)\n",
      " |-- token: array (nullable = true)\n",
      " |    |-- element: struct (containsNull = true)\n",
      " |    |    |-- annotatorType: string (nullable = true)\n",
      " |    |    |-- begin: integer (nullable = false)\n",
      " |    |    |-- end: integer (nullable = false)\n",
      " |    |    |-- result: string (nullable = true)\n",
      " |    |    |-- metadata: map (nullable = true)\n",
      " |    |    |    |-- key: string\n",
      " |    |    |    |-- value: string (valueContainsNull = true)\n",
      " |    |    |-- embeddings: array (nullable = true)\n",
      " |    |    |    |-- element: float (containsNull = false)\n",
      " |-- clean_token: array (nullable = true)\n",
      " |    |-- element: struct (containsNull = true)\n",
      " |    |    |-- annotatorType: string (nullable = true)\n",
      " |    |    |-- begin: integer (nullable = false)\n",
      " |    |    |-- end: integer (nullable = false)\n",
      " |    |    |-- result: string (nullable = true)\n",
      " |    |    |-- metadata: map (nullable = true)\n",
      " |    |    |    |-- key: string\n",
      " |    |    |    |-- value: string (valueContainsNull = true)\n",
      " |    |    |-- embeddings: array (nullable = true)\n",
      " |    |    |    |-- element: float (containsNull = false)\n",
      " |-- final: array (nullable = true)\n",
      " |    |-- element: string (containsNull = true)\n",
      " |-- features: vector (nullable = true)\n",
      "\n"
     ]
    }
   ],
   "source": [
    "vectorized_tokens.printSchema()"
   ]
  },
  {
   "cell_type": "code",
   "execution_count": 37,
   "id": "9f0f06f6-54ec-4351-b5e7-6cb1448046db",
   "metadata": {},
   "outputs": [],
   "source": [
    "from pyspark.ml.evaluation import ClusteringEvaluator\n",
    "from pyspark.ml.clustering import KMeans"
   ]
  },
  {
   "cell_type": "code",
   "execution_count": null,
   "id": "caf2c751-f732-4046-9e5b-b315e0af86e7",
   "metadata": {},
   "outputs": [
    {
     "name": "stderr",
     "output_type": "stream",
     "text": [
      "22/05/04 00:01:47 WARN BLAS: Failed to load implementation from: com.github.fommil.netlib.NativeSystemBLAS\n",
      "22/05/04 00:01:47 WARN BLAS: Failed to load implementation from: com.github.fommil.netlib.NativeRefBLAS\n",
      "[Stage 89:====>                                                   (4 + 24) / 49]\r"
     ]
    }
   ],
   "source": [
    "# Running a loop to find optimal number of clusters\n",
    "cost = np.zeros(10)\n",
    "for k in range(2,10):\n",
    "    kmeans = KMeans().setK(k).setSeed(100).setFeaturesCol('features')\n",
    "    model = kmeans.fit(vectorized_tokens)\n",
    "    cost[k] = model.summary.trainingCost\n",
    "    "
   ]
  },
  {
   "cell_type": "code",
   "execution_count": 135,
   "id": "c142a4f0-be44-475f-a0b3-cbcdea5c0737",
   "metadata": {},
   "outputs": [],
   "source": [
    "# Plot the cost\n",
    "df_cost = pd.DataFrame(cost[2:])\n",
    "df_cost.columns = [\"cost\"]\n",
    "new_col = [2,3,4,5,6,7,8, 9]\n",
    "df_cost.insert(0, 'cluster', new_col)\n",
    "df_cost.to_csv('data_extra/clustering_cost.csv',index = False)"
   ]
  },
  {
   "cell_type": "code",
   "execution_count": 43,
   "id": "ba67e993-ab2c-4ffb-93e5-013aaaa346c3",
   "metadata": {},
   "outputs": [],
   "source": [
    "df_cost = pd.read_csv('data_extra/clustering_cost.csv')"
   ]
  },
  {
   "cell_type": "code",
   "execution_count": 44,
   "id": "cf01ea65-dee4-4a27-b34b-b52608f37c66",
   "metadata": {},
   "outputs": [
    {
     "data": {
      "text/html": [
       "<div>\n",
       "<style scoped>\n",
       "    .dataframe tbody tr th:only-of-type {\n",
       "        vertical-align: middle;\n",
       "    }\n",
       "\n",
       "    .dataframe tbody tr th {\n",
       "        vertical-align: top;\n",
       "    }\n",
       "\n",
       "    .dataframe thead th {\n",
       "        text-align: right;\n",
       "    }\n",
       "</style>\n",
       "<table border=\"1\" class=\"dataframe\">\n",
       "  <thead>\n",
       "    <tr style=\"text-align: right;\">\n",
       "      <th></th>\n",
       "      <th>cluster</th>\n",
       "      <th>cost</th>\n",
       "    </tr>\n",
       "  </thead>\n",
       "  <tbody>\n",
       "    <tr>\n",
       "      <th>0</th>\n",
       "      <td>2</td>\n",
       "      <td>1.097887e+08</td>\n",
       "    </tr>\n",
       "    <tr>\n",
       "      <th>1</th>\n",
       "      <td>3</td>\n",
       "      <td>1.053069e+08</td>\n",
       "    </tr>\n",
       "    <tr>\n",
       "      <th>2</th>\n",
       "      <td>4</td>\n",
       "      <td>1.038906e+08</td>\n",
       "    </tr>\n",
       "    <tr>\n",
       "      <th>3</th>\n",
       "      <td>5</td>\n",
       "      <td>1.030784e+08</td>\n",
       "    </tr>\n",
       "    <tr>\n",
       "      <th>4</th>\n",
       "      <td>6</td>\n",
       "      <td>1.024634e+08</td>\n",
       "    </tr>\n",
       "    <tr>\n",
       "      <th>5</th>\n",
       "      <td>7</td>\n",
       "      <td>1.015963e+08</td>\n",
       "    </tr>\n",
       "    <tr>\n",
       "      <th>6</th>\n",
       "      <td>8</td>\n",
       "      <td>1.012754e+08</td>\n",
       "    </tr>\n",
       "    <tr>\n",
       "      <th>7</th>\n",
       "      <td>9</td>\n",
       "      <td>1.009122e+08</td>\n",
       "    </tr>\n",
       "  </tbody>\n",
       "</table>\n",
       "</div>"
      ],
      "text/plain": [
       "   cluster          cost\n",
       "0        2  1.097887e+08\n",
       "1        3  1.053069e+08\n",
       "2        4  1.038906e+08\n",
       "3        5  1.030784e+08\n",
       "4        6  1.024634e+08\n",
       "5        7  1.015963e+08\n",
       "6        8  1.012754e+08\n",
       "7        9  1.009122e+08"
      ]
     },
     "execution_count": 44,
     "metadata": {},
     "output_type": "execute_result"
    }
   ],
   "source": [
    "df_cost"
   ]
  },
  {
   "cell_type": "code",
   "execution_count": 45,
   "id": "430f2cc3-a5d6-4279-84f0-aaa40ee432c3",
   "metadata": {},
   "outputs": [
    {
     "data": {
      "text/plain": [
       "0    1.097887\n",
       "1    1.053069\n",
       "2    1.038906\n",
       "3    1.030784\n",
       "4    1.024634\n",
       "5    1.015963\n",
       "6    1.012754\n",
       "7    1.009122\n",
       "Name: cost_normal, dtype: float64"
      ]
     },
     "execution_count": 45,
     "metadata": {},
     "output_type": "execute_result"
    }
   ],
   "source": [
    "df_cost['cost_normal'] = df_cost['cost']/100000000\n",
    "df_cost['cost_normal']"
   ]
  },
  {
   "cell_type": "code",
   "execution_count": 46,
   "id": "a96d3660-b7e7-406a-b7bd-c46db8b5683d",
   "metadata": {},
   "outputs": [
    {
     "data": {
      "text/html": [
       "\n",
       "<div id=\"altair-viz-021484f3d3ec47be863f118aaa0bc50a\"></div>\n",
       "<script type=\"text/javascript\">\n",
       "  var VEGA_DEBUG = (typeof VEGA_DEBUG == \"undefined\") ? {} : VEGA_DEBUG;\n",
       "  (function(spec, embedOpt){\n",
       "    let outputDiv = document.currentScript.previousElementSibling;\n",
       "    if (outputDiv.id !== \"altair-viz-021484f3d3ec47be863f118aaa0bc50a\") {\n",
       "      outputDiv = document.getElementById(\"altair-viz-021484f3d3ec47be863f118aaa0bc50a\");\n",
       "    }\n",
       "    const paths = {\n",
       "      \"vega\": \"https://cdn.jsdelivr.net/npm//vega@5?noext\",\n",
       "      \"vega-lib\": \"https://cdn.jsdelivr.net/npm//vega-lib?noext\",\n",
       "      \"vega-lite\": \"https://cdn.jsdelivr.net/npm//vega-lite@4.17.0?noext\",\n",
       "      \"vega-embed\": \"https://cdn.jsdelivr.net/npm//vega-embed@6?noext\",\n",
       "    };\n",
       "\n",
       "    function maybeLoadScript(lib, version) {\n",
       "      var key = `${lib.replace(\"-\", \"\")}_version`;\n",
       "      return (VEGA_DEBUG[key] == version) ?\n",
       "        Promise.resolve(paths[lib]) :\n",
       "        new Promise(function(resolve, reject) {\n",
       "          var s = document.createElement('script');\n",
       "          document.getElementsByTagName(\"head\")[0].appendChild(s);\n",
       "          s.async = true;\n",
       "          s.onload = () => {\n",
       "            VEGA_DEBUG[key] = version;\n",
       "            return resolve(paths[lib]);\n",
       "          };\n",
       "          s.onerror = () => reject(`Error loading script: ${paths[lib]}`);\n",
       "          s.src = paths[lib];\n",
       "        });\n",
       "    }\n",
       "\n",
       "    function showError(err) {\n",
       "      outputDiv.innerHTML = `<div class=\"error\" style=\"color:red;\">${err}</div>`;\n",
       "      throw err;\n",
       "    }\n",
       "\n",
       "    function displayChart(vegaEmbed) {\n",
       "      vegaEmbed(outputDiv, spec, embedOpt)\n",
       "        .catch(err => showError(`Javascript Error: ${err.message}<br>This usually means there's a typo in your chart specification. See the javascript console for the full traceback.`));\n",
       "    }\n",
       "\n",
       "    if(typeof define === \"function\" && define.amd) {\n",
       "      requirejs.config({paths});\n",
       "      require([\"vega-embed\"], displayChart, err => showError(`Error loading script: ${err.message}`));\n",
       "    } else {\n",
       "      maybeLoadScript(\"vega\", \"5\")\n",
       "        .then(() => maybeLoadScript(\"vega-lite\", \"4.17.0\"))\n",
       "        .then(() => maybeLoadScript(\"vega-embed\", \"6\"))\n",
       "        .catch(showError)\n",
       "        .then(() => displayChart(vegaEmbed));\n",
       "    }\n",
       "  })({\"config\": {\"view\": {\"continuousWidth\": 400, \"continuousHeight\": 300, \"strokeWidth\": 0}, \"axis\": {\"grid\": false}}, \"layer\": [{\"mark\": \"line\", \"encoding\": {\"color\": {\"value\": \"#fc9272\"}, \"tooltip\": [{\"field\": \"cost_normal\", \"type\": \"quantitative\"}], \"x\": {\"field\": \"cluster\", \"title\": \"Number of Clusters\", \"type\": \"quantitative\"}, \"y\": {\"field\": \"cost_normal\", \"scale\": {\"domain\": [1, 1.15]}, \"title\": \"Score\", \"type\": \"quantitative\"}}, \"selection\": {\"selector001\": {\"type\": \"interval\", \"bind\": \"scales\", \"encodings\": [\"x\", \"y\"]}}, \"title\": {\"text\": [\"What is the optimal number of clusters?\"], \"subtitle\": [\"Elbow Method - Topic Modelling\"]}, \"width\": 600}, {\"mark\": \"point\", \"encoding\": {\"color\": {\"value\": \"#fc9272\"}, \"tooltip\": [{\"field\": \"cost_normal\", \"type\": \"quantitative\"}], \"x\": {\"field\": \"cluster\", \"scale\": {\"domain\": [1.9, 9.5]}, \"title\": \"Number of Clusters\", \"type\": \"quantitative\"}, \"y\": {\"field\": \"cost_normal\", \"scale\": {\"domain\": [1, 1.15]}, \"title\": \"Score\", \"type\": \"quantitative\"}}, \"selection\": {\"selector002\": {\"type\": \"interval\", \"bind\": \"scales\", \"encodings\": [\"x\", \"y\"]}}, \"title\": {\"text\": [\"What is the optimal number of clusters?\"], \"subtitle\": [\"Elbow Method - Topic Modelling\"]}, \"width\": 600}, {\"mark\": {\"type\": \"text\", \"angle\": 0, \"opacity\": 0.1, \"size\": 20, \"text\": \"Elbow at k = 3\"}, \"encoding\": {\"x\": {\"field\": \"text_x\", \"type\": \"quantitative\"}, \"y\": {\"field\": \"text_y\", \"type\": \"quantitative\"}}}], \"data\": {\"name\": \"data-b47705c3df0f809d5c301a2bc09b5f5e\"}, \"$schema\": \"https://vega.github.io/schema/vega-lite/v4.17.0.json\", \"datasets\": {\"data-b47705c3df0f809d5c301a2bc09b5f5e\": [{\"cluster\": 2, \"cost\": 109788698.25615002, \"cost_normal\": 1.0978869825615003, \"text_x\": 4, \"text_y\": 1.07}, {\"cluster\": 3, \"cost\": 105306886.48751114, \"cost_normal\": 1.0530688648751114, \"text_x\": 4, \"text_y\": 1.07}, {\"cluster\": 4, \"cost\": 103890565.1203866, \"cost_normal\": 1.038905651203866, \"text_x\": 4, \"text_y\": 1.07}, {\"cluster\": 5, \"cost\": 103078366.9663672, \"cost_normal\": 1.030783669663672, \"text_x\": 4, \"text_y\": 1.07}, {\"cluster\": 6, \"cost\": 102463424.7844046, \"cost_normal\": 1.024634247844046, \"text_x\": 4, \"text_y\": 1.07}, {\"cluster\": 7, \"cost\": 101596258.9158619, \"cost_normal\": 1.015962589158619, \"text_x\": 4, \"text_y\": 1.07}, {\"cluster\": 8, \"cost\": 101275431.7008327, \"cost_normal\": 1.0127543170083269, \"text_x\": 4, \"text_y\": 1.07}, {\"cluster\": 9, \"cost\": 100912216.338825, \"cost_normal\": 1.0091221633882501, \"text_x\": 4, \"text_y\": 1.07}]}}, {\"mode\": \"vega-lite\"});\n",
       "</script>"
      ],
      "text/plain": [
       "alt.LayerChart(...)"
      ]
     },
     "execution_count": 46,
     "metadata": {},
     "output_type": "execute_result"
    }
   ],
   "source": [
    "df_cost['text_x'] = 4\n",
    "df_cost['text_y'] = 1.07\n",
    "\n",
    "elbow_plot = (\n",
    "        alt.Chart(df_cost)\n",
    "        .mark_line()\n",
    "        .encode(\n",
    "            x = alt.X(\"cluster\", title=\"Number of Clusters\"),\n",
    "            y=alt.Y(\"cost_normal\", title=\"Score\",scale = alt.Scale(domain=[1,1.15])\n",
    "                   ),\n",
    "            color=alt.value('#fc9272'),\n",
    "            tooltip=[alt.Tooltip('cost_normal')]\n",
    "        )\n",
    "    ).properties(width=600,title={\n",
    "      \"text\": [\"What is the optimal number of clusters?\"], \n",
    "      \"subtitle\": [\"Elbow Method - Topic Modelling\"]\n",
    "    },).interactive()\n",
    "\n",
    "elbow_plot_point = (\n",
    "        alt.Chart(df_cost)\n",
    "        .mark_point()\n",
    "        .encode(\n",
    "            x = alt.X(\"cluster\", title=\"Number of Clusters\",scale = alt.Scale(domain=[1.9,9.5])),\n",
    "            y=alt.Y(\"cost_normal\", title=\"Score\",scale = alt.Scale(domain=[1,1.15])\n",
    "                   ),\n",
    "            color=alt.value('#fc9272'),\n",
    "            tooltip=[alt.Tooltip('cost_normal')]\n",
    "        )\n",
    "    ).properties(width=600,title={\n",
    "      \"text\": [\"What is the optimal number of clusters?\"], \n",
    "      \"subtitle\": [\"Elbow Method - Topic Modelling\"]\n",
    "    },).interactive()\n",
    "\n",
    "\n",
    "text = alt.Chart(df_cost).mark_text(opacity = 0.1,size =20,\n",
    "    text='Elbow at k = 3', angle=0\n",
    ").encode(\n",
    "    x='text_x', y='text_y'\n",
    ")\n",
    "\n",
    "elbow_plot = alt.layer(\n",
    "    elbow_plot,elbow_plot_point,text#,rect,rect2,text2,text\n",
    ").configure_axis(\n",
    "    grid=False\n",
    ").configure_view(\n",
    "    strokeWidth=0\n",
    ")\n",
    "\n",
    "elbow_plot.save(\"plots/elbow_plot.html\")\n",
    "elbow_plot"
   ]
  },
  {
   "cell_type": "markdown",
   "id": "bd9630b8-c2f9-42d3-981a-e19ee8d5dc43",
   "metadata": {},
   "source": [
    "Making the model with k = 3"
   ]
  },
  {
   "cell_type": "code",
   "execution_count": 31,
   "id": "e3665b26-97d2-4696-97e5-fcc5164e3073",
   "metadata": {},
   "outputs": [
    {
     "name": "stderr",
     "output_type": "stream",
     "text": [
      "22/04/29 20:28:07 WARN BLAS: Failed to load implementation from: com.github.fommil.netlib.NativeSystemBLAS\n",
      "22/04/29 20:28:07 WARN BLAS: Failed to load implementation from: com.github.fommil.netlib.NativeRefBLAS\n",
      "[Stage 59:======================================================> (48 + 1) / 49]\r"
     ]
    },
    {
     "name": "stdout",
     "output_type": "stream",
     "text": [
      "Silhouette with squared euclidean distance = 0.5102599222082395\n",
      "Within Set Sum of Squared Errors = 55916169.73063542\n",
      "Cluster Centers: \n",
      "[1.67530499e-01 4.71509038e-02 1.21871499e+00 1.44044209e-01\n",
      " 1.29565163e-01 1.58209250e-01 9.93278002e-02 7.01254851e-02\n",
      " 5.26711609e-02 7.48898081e-02 4.01478530e-02 8.96828566e-02\n",
      " 7.52697134e-02 9.66277587e-02 6.71792804e-02 5.35937882e-02\n",
      " 6.33879803e-02 1.49132226e-02 8.18056358e-02 6.42776565e-02\n",
      " 4.41698099e-02 3.74071073e-02 4.10394675e-02 4.38499917e-02\n",
      " 7.04995755e-02 3.49435375e-02 3.23404107e-02 4.96493629e-02\n",
      " 4.45380855e-02 3.76920363e-02 5.92458491e-02 6.58263522e-02\n",
      " 5.33030443e-02 5.61096919e-02 4.19989223e-02 5.50959649e-02\n",
      " 1.29555472e-02 5.62066065e-02 4.00044193e-02 3.52556026e-02\n",
      " 3.98958749e-02 4.59103966e-02 4.53754279e-02 4.48734101e-02\n",
      " 4.30746747e-02 3.52827387e-02 3.73295756e-02 3.19469373e-02\n",
      " 4.47299765e-02 7.15229940e-03 4.15104726e-02 4.66159351e-03\n",
      " 5.10914525e-02 1.97667071e-02 3.15844766e-02 3.34239162e-02\n",
      " 2.78803996e-02 2.30269151e-02 1.76345853e-02 4.24292232e-02\n",
      " 3.18713439e-02 3.38542171e-02 3.46043363e-02 2.06621983e-02\n",
      " 3.63953186e-02 4.49838928e-02 2.61960234e-02 2.52171857e-02\n",
      " 4.19097609e-02 1.06528557e-02 3.11289779e-02 3.69554852e-02\n",
      " 3.75582941e-02 7.14435240e-02 1.85649658e-02 2.04334797e-02\n",
      " 2.24047232e-02 3.57014099e-02 1.79854163e-02 3.31099128e-02\n",
      " 3.46275959e-02 3.70446466e-02 3.28734411e-02 9.36582945e-03\n",
      " 1.22693916e-03 2.38855787e-02 3.68004218e-02 2.14220089e-02\n",
      " 2.89987944e-02 2.65739904e-02 3.57246694e-02 3.35964242e-02\n",
      " 2.17728399e-02 1.53105726e-02 1.44616005e-02 2.85607403e-02\n",
      " 3.47749061e-02 2.93554402e-02 2.44147326e-02 4.09173551e-02\n",
      " 2.77175830e-02 2.01892549e-02 1.92046023e-02 2.04586775e-02\n",
      " 2.37363302e-02 4.38344853e-02 3.25400548e-02 5.07580662e-02\n",
      " 2.58800817e-02 2.16778635e-02 1.95554332e-02 2.35735136e-02\n",
      " 2.36723665e-02 5.71214805e-03 1.72856927e-02 2.69694021e-02\n",
      " 2.17709016e-02 4.06207963e-02 2.98749026e-02 2.25287740e-02\n",
      " 2.72407631e-02 3.41759737e-02 2.04761222e-02 2.37479599e-02\n",
      " 2.79269186e-02 4.43326265e-02 6.30177664e-02 2.20383859e-02\n",
      " 2.22399684e-02 1.20135370e-02 1.96697925e-02 1.18681651e-02\n",
      " 4.18477355e-03 2.91693641e-02 2.21256091e-02 2.71205889e-02\n",
      " 1.99896108e-02 2.86557166e-02 1.95961374e-02 2.49613311e-02\n",
      " 2.73396160e-02 1.06334728e-02 1.98229176e-02 2.01252912e-02\n",
      " 2.52191240e-02 1.75531771e-02 2.14317004e-02 1.60723216e-02\n",
      " 1.65724010e-02 2.54691637e-02 2.32381890e-02 2.47675018e-02\n",
      " 2.28350242e-02 1.93654806e-02 3.09390252e-02 8.91808388e-03\n",
      " 2.28718517e-02 2.24337976e-02 1.13777771e-03 2.16429743e-02\n",
      " 2.21353006e-02 3.14991917e-02 2.24531805e-02 2.49109355e-02\n",
      " 9.43560798e-03 1.92821340e-02 1.90863664e-02 2.36995026e-02\n",
      " 1.88634628e-02 1.93112084e-02 2.04703073e-02 2.08172617e-02\n",
      " 6.88093844e-04 1.60665067e-02 1.89642540e-02 1.79563419e-02\n",
      " 1.60839513e-02 1.74582007e-02 7.82294861e-03 2.39960614e-02\n",
      " 1.74737071e-02 5.54739319e-03 2.64906439e-02 1.83672599e-02\n",
      " 1.75841897e-02 1.01721591e-02 1.25989014e-02 2.29358154e-02\n",
      " 1.72934459e-02 2.83378366e-03 2.09665102e-02 2.19589160e-02\n",
      " 1.35990603e-02 1.94391357e-02 1.97376327e-02 6.90613625e-03\n",
      " 2.30172237e-02 2.39921848e-02 2.54614105e-02 1.76365236e-02\n",
      " 1.23042809e-02 1.14301110e-02 2.27904434e-02 1.83149260e-02\n",
      " 1.83885811e-02 1.75241027e-02 2.20538923e-02 1.96988669e-02\n",
      " 1.40584356e-02 2.07281002e-02 2.04121585e-02 1.66635008e-02\n",
      " 1.56226377e-02 1.38956191e-02 2.01407976e-02 2.46434511e-02\n",
      " 4.93489275e-03 2.73241096e-02 1.65316969e-02 2.50059118e-02\n",
      " 2.03423800e-02 1.75144112e-02 2.64111739e-02 1.32055869e-02\n",
      " 2.52947174e-03 2.10944375e-02 2.14297621e-02 4.42512182e-03\n",
      " 1.57680096e-02 1.49655565e-02 1.26938777e-02 1.84292853e-02\n",
      " 1.57970840e-02 2.18232355e-02 1.54229936e-02 1.13002454e-03\n",
      " 1.58222818e-02 2.53141003e-03 2.05420241e-02 3.38813532e-03\n",
      " 2.30230385e-02 1.62797189e-02 3.20244690e-02 1.87180909e-02\n",
      " 1.73128288e-02 2.05846666e-03 2.17127528e-02 2.77892998e-02\n",
      " 1.73864839e-02 1.97919049e-02 2.27051586e-02 1.34788862e-02\n",
      " 7.00692746e-03 1.39847805e-02 2.53141003e-03 1.84758043e-02\n",
      " 1.30912277e-02 1.53590299e-02 1.47872336e-02 1.64425354e-02\n",
      " 1.61905574e-02 9.80388356e-03 2.23698340e-02 1.07594618e-02\n",
      " 1.58998135e-02 1.49519885e-02 1.34304289e-02 1.09998100e-02\n",
      " 1.64192759e-02 2.09141763e-03 1.29943130e-02 1.14223578e-02\n",
      " 1.69871956e-02 1.22616385e-02 1.63902015e-02 1.14359259e-02\n",
      " 1.34498118e-02 1.42774627e-02 1.83769514e-02 8.02065445e-03\n",
      " 1.53066960e-02 1.83943960e-02 1.88557096e-02 1.91755279e-02\n",
      " 1.68864044e-02 1.56381440e-02 1.40177315e-02 1.28683240e-02\n",
      " 1.28140518e-02 2.30656810e-03 1.82567772e-02 1.51070519e-02\n",
      " 1.10036866e-02 1.49888161e-02 1.61440384e-02 1.39944720e-02\n",
      " 1.43976368e-02 1.60258026e-02 1.14359259e-02 2.38603809e-03\n",
      " 9.42979311e-03 7.79968910e-03 7.78612105e-03 1.23876275e-02\n",
      " 1.60296791e-02 1.39847805e-02 1.25252463e-02 9.70503064e-03\n",
      " 1.39324466e-02 1.54714509e-02 1.29284111e-02 8.80566292e-03\n",
      " 1.12769859e-02 1.13583942e-02 6.23548703e-03 1.35195903e-02\n",
      " 1.94216910e-02 1.35913071e-02 1.20794390e-02 1.68592683e-02\n",
      " 1.28605709e-02 1.14204195e-02 1.12420966e-04 1.50741009e-02\n",
      " 9.68177113e-03 1.52000899e-02 1.16743358e-02 3.48117336e-03\n",
      " 1.44247729e-02 1.33257611e-02 1.44247729e-02 4.66740839e-03\n",
      " 1.36223198e-02 1.07652767e-02 1.21104517e-02 1.37928896e-02\n",
      " 1.42735861e-02 1.23411085e-02 1.58436031e-02 9.16230874e-03\n",
      " 1.27636562e-02 1.28799538e-02 9.82714307e-03 1.58145287e-02\n",
      " 9.38715067e-03 1.30059428e-02 2.08250148e-02 1.29129048e-02\n",
      " 1.37483088e-02 1.25717653e-02 1.46534914e-02 9.70309235e-03\n",
      " 1.32191550e-02 1.30388938e-02 1.12479115e-02 1.44964898e-02\n",
      " 1.08137340e-02 7.24533744e-03 8.31915149e-03 1.48201846e-02\n",
      " 1.11645649e-02 3.97349966e-03 1.73961754e-02 9.39296555e-03\n",
      " 1.37967662e-02 1.17770653e-02 1.41049547e-02 1.06024601e-02\n",
      " 1.24089487e-02 4.72749545e-03 1.07013130e-02 6.77239406e-03\n",
      " 1.20232285e-02 5.60360367e-03 1.50372734e-02 1.22790831e-02\n",
      " 1.50198287e-02 1.19650797e-02 1.24205785e-02 1.22635768e-02\n",
      " 1.57079226e-02 1.23663063e-02 1.33412674e-02 1.04105691e-02\n",
      " 9.88529185e-03 7.12710159e-03 1.11451820e-02 1.49597417e-02\n",
      " 9.78837722e-03 1.37366791e-02 1.57369970e-02 1.82897282e-02\n",
      " 1.11335522e-02 1.41553503e-02 1.08505615e-02 1.52466090e-02\n",
      " 1.30524618e-02 6.39636531e-03 1.24729124e-02 1.39731508e-02\n",
      " 8.76495877e-03 1.71655186e-02 2.24415508e-02 1.15677298e-02\n",
      " 1.01275784e-02 1.09610442e-02 1.00946274e-02 1.39382615e-02\n",
      " 7.33256060e-03 1.15948659e-02 1.08486232e-02 8.92002217e-03\n",
      " 1.19011161e-03 1.54947104e-02 8.26681760e-03 9.43366969e-03\n",
      " 1.09222783e-02 1.17945100e-02 1.12479115e-02 1.45895278e-02\n",
      " 1.58300350e-02 6.46808214e-03 1.09823654e-02 1.06916215e-02\n",
      " 1.13254432e-02 1.34653181e-02 1.25310611e-02 1.20212902e-02\n",
      " 1.21744153e-02 2.08153234e-02 8.27650906e-03 1.16084339e-02\n",
      " 9.81357503e-03 1.30873511e-02 1.41999310e-02 8.15052004e-03\n",
      " 9.84846429e-03 1.09106486e-02 8.66416756e-03 1.20813773e-02\n",
      " 7.68145325e-03 4.26424354e-05 1.05656325e-02 9.90661307e-03\n",
      " 3.89015309e-03 9.22045751e-03 1.11626266e-02 1.33742184e-02\n",
      " 1.19767095e-02 8.75526731e-03 1.13913451e-02 1.76966107e-02\n",
      " 3.35324606e-04 9.35419970e-03 8.75914389e-03 1.08757593e-02\n",
      " 1.57001694e-02 2.07300385e-02 1.08273020e-02 6.74138138e-03\n",
      " 1.41359673e-02 1.17053485e-02 2.89387073e-02 1.12731093e-02\n",
      " 9.44142286e-03 9.90661307e-03 6.83441942e-03 1.03911862e-02\n",
      " 8.80178633e-03 1.06644854e-02 8.44901709e-03 9.83295795e-03\n",
      " 1.21240197e-02 1.00733062e-02 9.68952430e-03 1.76830427e-02\n",
      " 3.58971775e-03 1.14417407e-02 8.31721320e-03 1.11296756e-02\n",
      " 8.81923096e-03 1.23023426e-02 5.58422075e-03 9.94925550e-03\n",
      " 8.82310755e-03 1.57873926e-02 8.35210247e-03 8.31915149e-03\n",
      " 7.64462570e-03 9.78450064e-03 9.00724534e-03 7.35000523e-03\n",
      " 1.02555057e-02 1.04861625e-02 9.18169166e-03 3.53156897e-03\n",
      " 1.38413469e-02 7.47793254e-03 4.41155377e-03 7.93730787e-03]\n"
     ]
    },
    {
     "name": "stderr",
     "output_type": "stream",
     "text": [
      "                                                                                \r"
     ]
    }
   ],
   "source": [
    "# Trains a 4 k-means model.\n",
    "kmeans = KMeans().setK(4).setSeed(100).setFeaturesCol('features')\n",
    "model = kmeans.fit(vectorized_tokens)\n",
    "# Make predictions\n",
    "predictions = model.transform(vectorized_tokens)\n",
    "# Evaluate clustering by computing Silhouette score\n",
    "evaluator = ClusteringEvaluator()\n",
    "silhouette = evaluator.evaluate(predictions)\n",
    "print(\"Silhouette with squared euclidean distance = \" + str(silhouette))\n",
    "# Evaluate clustering.\n",
    "cost = model.summary.trainingCost\n",
    "#cost = model.computeCost(dataset)\n",
    "print(\"Within Set Sum of Squared Errors = \" + str(cost))\n",
    "# Shows the result.\n",
    "print(\"Cluster Centers: \")\n",
    "ctr=[]\n",
    "centers = model.clusterCenters()\n",
    "for center in centers:\n",
    "    ctr.append(center)\n",
    "print(center)"
   ]
  },
  {
   "cell_type": "code",
   "execution_count": 32,
   "id": "706bc4a8-b615-413b-8af7-64c3ed2cc370",
   "metadata": {},
   "outputs": [
    {
     "name": "stderr",
     "output_type": "stream",
     "text": [
      "[Stage 115:=====================================================> (48 + 1) / 49]\r"
     ]
    },
    {
     "name": "stdout",
     "output_type": "stream",
     "text": [
      "Silhouette with squared euclidean distance = 0.7362034977520407\n",
      "Within Set Sum of Squared Errors = 56660952.02521935\n"
     ]
    },
    {
     "name": "stderr",
     "output_type": "stream",
     "text": [
      "                                                                                \r"
     ]
    }
   ],
   "source": [
    "# Trains a 3 k-means model.\n",
    "kmeans = KMeans().setK(3).setSeed(100).setFeaturesCol('features')\n",
    "model = kmeans.fit(vectorized_tokens)\n",
    "# Make predictions\n",
    "predictions = model.transform(vectorized_tokens)\n",
    "# Evaluate clustering by computing Silhouette score\n",
    "evaluator = ClusteringEvaluator()\n",
    "silhouette = evaluator.evaluate(predictions)\n",
    "print(\"Silhouette with squared euclidean distance = \" + str(silhouette))\n",
    "# Evaluate clustering.\n",
    "cost = model.summary.trainingCost\n",
    "#cost = model.computeCost(dataset)\n",
    "print(\"Within Set Sum of Squared Errors = \" + str(cost))"
   ]
  },
  {
   "cell_type": "markdown",
   "id": "3d9469d2-ea6a-4265-bf32-b35b13860143",
   "metadata": {},
   "source": [
    "Silhoutte Score comes out to be 73.6% for K =3, which is not that bad. 0 here represents that the clusters could not be seprataed at all and 100% means that maximum separation. Given the type and amount of data, 74% seems like a great result."
   ]
  },
  {
   "cell_type": "code",
   "execution_count": 33,
   "id": "b2cfa772-ad3e-401b-ae00-47e2235d851a",
   "metadata": {},
   "outputs": [
    {
     "name": "stdout",
     "output_type": "stream",
     "text": [
      "root\n",
      " |-- document: string (nullable = true)\n",
      " |-- sarcasm_class: string (nullable = true)\n",
      " |-- sarcasm_value: double (nullable = true)\n",
      " |-- sentiment_class: string (nullable = true)\n",
      " |-- sentiment_value: double (nullable = true)\n",
      " |-- emotion_class: string (nullable = true)\n",
      " |-- score: long (nullable = true)\n",
      " |-- gilded: long (nullable = true)\n",
      " |-- controversiality: long (nullable = true)\n",
      " |-- Awards: string (nullable = true)\n",
      " |-- Jokes: string (nullable = true)\n",
      " |-- Covid: string (nullable = true)\n",
      " |-- created_date: string (nullable = true)\n",
      " |-- is_weekend: integer (nullable = true)\n",
      " |-- reddit_age_post: integer (nullable = true)\n",
      " |-- is_award: integer (nullable = true)\n",
      " |-- document2: array (nullable = true)\n",
      " |    |-- element: struct (containsNull = true)\n",
      " |    |    |-- annotatorType: string (nullable = true)\n",
      " |    |    |-- begin: integer (nullable = false)\n",
      " |    |    |-- end: integer (nullable = false)\n",
      " |    |    |-- result: string (nullable = true)\n",
      " |    |    |-- metadata: map (nullable = true)\n",
      " |    |    |    |-- key: string\n",
      " |    |    |    |-- value: string (valueContainsNull = true)\n",
      " |    |    |-- embeddings: array (nullable = true)\n",
      " |    |    |    |-- element: float (containsNull = false)\n",
      " |-- token: array (nullable = true)\n",
      " |    |-- element: struct (containsNull = true)\n",
      " |    |    |-- annotatorType: string (nullable = true)\n",
      " |    |    |-- begin: integer (nullable = false)\n",
      " |    |    |-- end: integer (nullable = false)\n",
      " |    |    |-- result: string (nullable = true)\n",
      " |    |    |-- metadata: map (nullable = true)\n",
      " |    |    |    |-- key: string\n",
      " |    |    |    |-- value: string (valueContainsNull = true)\n",
      " |    |    |-- embeddings: array (nullable = true)\n",
      " |    |    |    |-- element: float (containsNull = false)\n",
      " |-- clean_token: array (nullable = true)\n",
      " |    |-- element: struct (containsNull = true)\n",
      " |    |    |-- annotatorType: string (nullable = true)\n",
      " |    |    |-- begin: integer (nullable = false)\n",
      " |    |    |-- end: integer (nullable = false)\n",
      " |    |    |-- result: string (nullable = true)\n",
      " |    |    |-- metadata: map (nullable = true)\n",
      " |    |    |    |-- key: string\n",
      " |    |    |    |-- value: string (valueContainsNull = true)\n",
      " |    |    |-- embeddings: array (nullable = true)\n",
      " |    |    |    |-- element: float (containsNull = false)\n",
      " |-- final: array (nullable = true)\n",
      " |    |-- element: string (containsNull = true)\n",
      " |-- features: vector (nullable = true)\n",
      " |-- prediction: integer (nullable = false)\n",
      "\n"
     ]
    }
   ],
   "source": [
    "predictions.printSchema()"
   ]
  },
  {
   "cell_type": "code",
   "execution_count": 34,
   "id": "b91fdb69-5072-42fd-bab7-502262eed968",
   "metadata": {},
   "outputs": [],
   "source": [
    "prediction_summary = predictions.groupBy(\"prediction\",\"is_award\").agg(\\\n",
    "                                                              F.count(\"prediction\").alias('Count'))"
   ]
  },
  {
   "cell_type": "code",
   "execution_count": 35,
   "id": "a88b96e3-3746-4b4c-abf6-5506740ce126",
   "metadata": {},
   "outputs": [
    {
     "name": "stderr",
     "output_type": "stream",
     "text": [
      "                                                                                \r"
     ]
    }
   ],
   "source": [
    "prediction_summary_df = prediction_summary.toPandas()"
   ]
  },
  {
   "cell_type": "code",
   "execution_count": 36,
   "id": "91e10d13-f29a-4e15-b74b-a840f5e0152b",
   "metadata": {},
   "outputs": [
    {
     "data": {
      "text/html": [
       "<div>\n",
       "<style scoped>\n",
       "    .dataframe tbody tr th:only-of-type {\n",
       "        vertical-align: middle;\n",
       "    }\n",
       "\n",
       "    .dataframe tbody tr th {\n",
       "        vertical-align: top;\n",
       "    }\n",
       "\n",
       "    .dataframe thead th {\n",
       "        text-align: right;\n",
       "    }\n",
       "</style>\n",
       "<table border=\"1\" class=\"dataframe\">\n",
       "  <thead>\n",
       "    <tr style=\"text-align: right;\">\n",
       "      <th></th>\n",
       "      <th>prediction</th>\n",
       "      <th>is_award</th>\n",
       "      <th>Count</th>\n",
       "    </tr>\n",
       "  </thead>\n",
       "  <tbody>\n",
       "    <tr>\n",
       "      <th>0</th>\n",
       "      <td>1</td>\n",
       "      <td>1</td>\n",
       "      <td>23</td>\n",
       "    </tr>\n",
       "    <tr>\n",
       "      <th>1</th>\n",
       "      <td>0</td>\n",
       "      <td>0</td>\n",
       "      <td>6927551</td>\n",
       "    </tr>\n",
       "    <tr>\n",
       "      <th>2</th>\n",
       "      <td>0</td>\n",
       "      <td>1</td>\n",
       "      <td>12540</td>\n",
       "    </tr>\n",
       "    <tr>\n",
       "      <th>3</th>\n",
       "      <td>1</td>\n",
       "      <td>0</td>\n",
       "      <td>125109</td>\n",
       "    </tr>\n",
       "    <tr>\n",
       "      <th>4</th>\n",
       "      <td>2</td>\n",
       "      <td>0</td>\n",
       "      <td>306951</td>\n",
       "    </tr>\n",
       "    <tr>\n",
       "      <th>5</th>\n",
       "      <td>2</td>\n",
       "      <td>1</td>\n",
       "      <td>1665</td>\n",
       "    </tr>\n",
       "  </tbody>\n",
       "</table>\n",
       "</div>"
      ],
      "text/plain": [
       "   prediction  is_award    Count\n",
       "0           1         1       23\n",
       "1           0         0  6927551\n",
       "2           0         1    12540\n",
       "3           1         0   125109\n",
       "4           2         0   306951\n",
       "5           2         1     1665"
      ]
     },
     "execution_count": 36,
     "metadata": {},
     "output_type": "execute_result"
    }
   ],
   "source": [
    "prediction_summary_df"
   ]
  },
  {
   "cell_type": "markdown",
   "id": "80a68a7c-a5b8-435d-97c4-342dc7a1de4f",
   "metadata": {},
   "source": [
    "Saving Predictions of S3 bucket "
   ]
  },
  {
   "cell_type": "code",
   "execution_count": 38,
   "id": "cb08bcf3-03f4-4c66-94d4-6043db1c99dc",
   "metadata": {},
   "outputs": [
    {
     "name": "stderr",
     "output_type": "stream",
     "text": [
      "                                                                                \r"
     ]
    }
   ],
   "source": [
    "predictions.write.parquet(\"s3://aa2464-labdata2/predictions_clustering/\")"
   ]
  },
  {
   "cell_type": "code",
   "execution_count": 37,
   "id": "d10580b0-20fe-465d-b4e2-76f68e26fa00",
   "metadata": {},
   "outputs": [
    {
     "name": "stderr",
     "output_type": "stream",
     "text": [
      "                                                                                \r"
     ]
    }
   ],
   "source": [
    "model.write().save('s3://aa2464-labdata2/clustering_model')"
   ]
  },
  {
   "cell_type": "markdown",
   "id": "186fee07-6f45-4229-b6a1-bc905ea71a0b",
   "metadata": {},
   "source": [
    "#### LDA"
   ]
  },
  {
   "cell_type": "code",
   "execution_count": 39,
   "id": "20f16375-9c06-4ff6-961d-51f73941237e",
   "metadata": {},
   "outputs": [
    {
     "name": "stderr",
     "output_type": "stream",
     "text": [
      "[Stage 160:=====================================================> (48 + 1) / 49]\r"
     ]
    },
    {
     "name": "stdout",
     "output_type": "stream",
     "text": [
      "The lower bound on the log likelihood of the entire corpus: -234656330.5974096\n",
      "The upper bound on perplexity: 5.909958750971146\n"
     ]
    },
    {
     "name": "stderr",
     "output_type": "stream",
     "text": [
      "                                                                                \r"
     ]
    }
   ],
   "source": [
    "from pyspark.ml.clustering import LDA\n",
    "lda = LDA(k=3, maxIter=10)\n",
    "model = lda.fit(vectorized_tokens)\n",
    "ll = model.logLikelihood(vectorized_tokens)\n",
    "lp = model.logPerplexity(vectorized_tokens)\n",
    "print(\"The lower bound on the log likelihood of the entire corpus: \" + str(ll))\n",
    "print(\"The upper bound on perplexity: \" + str(lp))"
   ]
  },
  {
   "cell_type": "code",
   "execution_count": 40,
   "id": "a489dc3e-a38a-4374-956f-297b00c8436c",
   "metadata": {},
   "outputs": [],
   "source": [
    "# extract vocabulary from CountVectorizer\n",
    "vocab = cv_model.vocabulary\n",
    "topics = model.describeTopics()   \n",
    "topics_rdd = topics.rdd\n",
    "topics_words = topics_rdd\\\n",
    "       .map(lambda row: row['termIndices'])\\\n",
    "       .map(lambda idx_list: [vocab[idx] for idx in idx_list])\\\n",
    "       .collect()"
   ]
  },
  {
   "cell_type": "code",
   "execution_count": 41,
   "id": "b10dc4ba-eba1-4d9f-839b-5c1ece106309",
   "metadata": {},
   "outputs": [
    {
     "data": {
      "text/html": [
       "<div>\n",
       "<style scoped>\n",
       "    .dataframe tbody tr th:only-of-type {\n",
       "        vertical-align: middle;\n",
       "    }\n",
       "\n",
       "    .dataframe tbody tr th {\n",
       "        vertical-align: top;\n",
       "    }\n",
       "\n",
       "    .dataframe thead th {\n",
       "        text-align: right;\n",
       "    }\n",
       "</style>\n",
       "<table border=\"1\" class=\"dataframe\">\n",
       "  <thead>\n",
       "    <tr style=\"text-align: right;\">\n",
       "      <th></th>\n",
       "      <th>topic1</th>\n",
       "      <th>topic2</th>\n",
       "      <th>topic3</th>\n",
       "    </tr>\n",
       "  </thead>\n",
       "  <tbody>\n",
       "    <tr>\n",
       "      <th>0</th>\n",
       "      <td>question</td>\n",
       "      <td>time</td>\n",
       "      <td>people</td>\n",
       "    </tr>\n",
       "    <tr>\n",
       "      <th>1</th>\n",
       "      <td>answer</td>\n",
       "      <td>people</td>\n",
       "      <td>day</td>\n",
       "    </tr>\n",
       "    <tr>\n",
       "      <th>2</th>\n",
       "      <td>action</td>\n",
       "      <td>lot</td>\n",
       "      <td>person</td>\n",
       "    </tr>\n",
       "    <tr>\n",
       "      <th>3</th>\n",
       "      <td>feel</td>\n",
       "      <td>woman</td>\n",
       "      <td>life</td>\n",
       "    </tr>\n",
       "    <tr>\n",
       "      <th>4</th>\n",
       "      <td>people</td>\n",
       "      <td>feel</td>\n",
       "      <td>time</td>\n",
       "    </tr>\n",
       "    <tr>\n",
       "      <th>5</th>\n",
       "      <td>reason</td>\n",
       "      <td>pretty</td>\n",
       "      <td>live</td>\n",
       "    </tr>\n",
       "    <tr>\n",
       "      <th>6</th>\n",
       "      <td>remove</td>\n",
       "      <td>yeah</td>\n",
       "      <td>talk</td>\n",
       "    </tr>\n",
       "    <tr>\n",
       "      <th>7</th>\n",
       "      <td>perform</td>\n",
       "      <td>happen</td>\n",
       "      <td>money</td>\n",
       "    </tr>\n",
       "    <tr>\n",
       "      <th>8</th>\n",
       "      <td>pay</td>\n",
       "      <td>word</td>\n",
       "      <td>job</td>\n",
       "    </tr>\n",
       "    <tr>\n",
       "      <th>9</th>\n",
       "      <td>bot</td>\n",
       "      <td>bad</td>\n",
       "      <td>food</td>\n",
       "    </tr>\n",
       "  </tbody>\n",
       "</table>\n",
       "</div>"
      ],
      "text/plain": [
       "     topic1  topic2  topic3\n",
       "0  question    time  people\n",
       "1    answer  people     day\n",
       "2    action     lot  person\n",
       "3      feel   woman    life\n",
       "4    people    feel    time\n",
       "5    reason  pretty    live\n",
       "6    remove    yeah    talk\n",
       "7   perform  happen   money\n",
       "8       pay    word     job\n",
       "9       bot     bad    food"
      ]
     },
     "execution_count": 41,
     "metadata": {},
     "output_type": "execute_result"
    }
   ],
   "source": [
    "words_topic =  {'topic1': topics_words[0], 'topic2': topics_words[1], 'topic3': topics_words[2]}\n",
    "words_topic_df = pd.DataFrame(data = words_topic)\n",
    "words_topic_df"
   ]
  },
  {
   "cell_type": "code",
   "execution_count": 43,
   "id": "a10dea4a-a93d-4469-852c-eb5edac41d20",
   "metadata": {},
   "outputs": [
    {
     "data": {
      "text/plain": [
       "500"
      ]
     },
     "execution_count": 43,
     "metadata": {},
     "output_type": "execute_result"
    }
   ],
   "source": [
    "len(vocab)"
   ]
  },
  {
   "cell_type": "code",
   "execution_count": 63,
   "id": "a0862d5e-6759-4f67-9240-732c2b59b30e",
   "metadata": {},
   "outputs": [],
   "source": [
    "vocab_dict = {'vocab': vocab}\n",
    "vocab_df = pd.DataFrame(vocab_dict) \n",
    "vocab_df.to_csv('data/topics_vocab.csv',index = False)\n",
    "words_topic_df.to_csv('data/words_topics.csv',index = False)"
   ]
  },
  {
   "cell_type": "code",
   "execution_count": 46,
   "id": "32642c23-b499-4c74-908b-e62a760b4887",
   "metadata": {},
   "outputs": [
    {
     "name": "stdout",
     "output_type": "stream",
     "text": [
      "+-----+--------------------+--------------------+\n",
      "|topic|         termIndices|         termWeights|\n",
      "+-----+--------------------+--------------------+\n",
      "|    0|[1, 10, 17, 3, 0,...|[0.07827456922192...|\n",
      "|    1|[2, 0, 4, 23, 3, ...|[0.02832096689602...|\n",
      "|    2|[0, 5, 7, 6, 2, 1...|[0.05522007183642...|\n",
      "+-----+--------------------+--------------------+\n",
      "\n"
     ]
    }
   ],
   "source": [
    "topics.show(6)"
   ]
  },
  {
   "cell_type": "code",
   "execution_count": 28,
   "id": "2242d303-98bc-4b80-b7f5-3290760915b9",
   "metadata": {},
   "outputs": [],
   "source": [
    "from imageio import imread"
   ]
  },
  {
   "cell_type": "code",
   "execution_count": 50,
   "id": "6a99a208-fc57-4bba-86cf-892ddc35627b",
   "metadata": {},
   "outputs": [],
   "source": [
    "mask = imread('plots/reddit_logo.png')"
   ]
  },
  {
   "cell_type": "code",
   "execution_count": 31,
   "id": "5a416a69-873a-49d0-a2ca-196e81e02d29",
   "metadata": {},
   "outputs": [],
   "source": [
    "from collections import Counter\n",
    "from wordcloud import WordCloud\n",
    "import matplotlib.pyplot as plt"
   ]
  },
  {
   "cell_type": "code",
   "execution_count": 64,
   "id": "70713cd3-55d4-4ba3-af2a-137de027ad1c",
   "metadata": {},
   "outputs": [],
   "source": [
    "freq = Counter(vocab)\n",
    "wc = WordCloud(\n",
    "    max_words=1000,\n",
    "    mask=mask,\n",
    "    background_color='#E7E6E1').fit_words(freq)"
   ]
  },
  {
   "cell_type": "code",
   "execution_count": 73,
   "id": "a27e31c8-24f8-404e-9223-8a05026f482c",
   "metadata": {},
   "outputs": [
    {
     "data": {
      "image/png": "[encoded data removed]",
      "text/plain": [
       "<Figure size 720x1152 with 1 Axes>"
      ]
     },
     "metadata": {
      "needs_background": "light"
     },
     "output_type": "display_data"
    }
   ],
   "source": [
    "annotation = '''The top 500 words that are important for topic modelling\n",
    "until April 2021. Adverbs, interjections, nouns and verbs were lemmatized.\n",
    "Proper names and \"I\" were upper-cased all other words lower-cased.\n",
    "Author: Avi Arora\n",
    "Data: reddit.com'''\n",
    "\n",
    "fig = plt.figure()\n",
    "fig.set_figwidth(10)\n",
    "fig.set_figheight(16)\n",
    "\n",
    "plt.imshow(wc, interpolation='bilinear')\n",
    "plt.annotate(annotation, xy=(0, 60), fontsize=12)\n",
    "plt.axis('off')\n",
    "plt.savefig('plots/reddit-topic-wordcloud.png', bbox_inches='tight')"
   ]
  },
  {
   "cell_type": "markdown",
   "id": "5231962d-213a-49e4-b490-61f64f70c2a8",
   "metadata": {},
   "source": [
    "## Business Question - 2"
   ]
  },
  {
   "cell_type": "markdown",
   "id": "f4f6e04d-1eee-44d3-af69-58eeed2cf26d",
   "metadata": {},
   "source": [
    "Predicting popularity of a comment"
   ]
  },
  {
   "cell_type": "code",
   "execution_count": 13,
   "id": "96128b6e-4440-4f89-a2b6-91ee416e5e4c",
   "metadata": {},
   "outputs": [
    {
     "name": "stderr",
     "output_type": "stream",
     "text": [
      "                                                                                \r"
     ]
    }
   ],
   "source": [
    "reddit_modeled = spark.read.parquet('s3://aa2464-labdata2/predictions_clustering/')"
   ]
  },
  {
   "cell_type": "code",
   "execution_count": 14,
   "id": "0a10e3c0-6423-4720-8491-b3a70585f2b4",
   "metadata": {},
   "outputs": [
    {
     "name": "stdout",
     "output_type": "stream",
     "text": [
      "root\n",
      " |-- document: string (nullable = true)\n",
      " |-- sarcasm_class: string (nullable = true)\n",
      " |-- sarcasm_value: double (nullable = true)\n",
      " |-- sentiment_class: string (nullable = true)\n",
      " |-- sentiment_value: double (nullable = true)\n",
      " |-- emotion_class: string (nullable = true)\n",
      " |-- score: long (nullable = true)\n",
      " |-- gilded: long (nullable = true)\n",
      " |-- controversiality: long (nullable = true)\n",
      " |-- Awards: string (nullable = true)\n",
      " |-- Jokes: string (nullable = true)\n",
      " |-- Covid: string (nullable = true)\n",
      " |-- created_date: string (nullable = true)\n",
      " |-- is_weekend: integer (nullable = true)\n",
      " |-- reddit_age_post: integer (nullable = true)\n",
      " |-- is_award: integer (nullable = true)\n",
      " |-- document2: array (nullable = true)\n",
      " |    |-- element: struct (containsNull = true)\n",
      " |    |    |-- annotatorType: string (nullable = true)\n",
      " |    |    |-- begin: integer (nullable = true)\n",
      " |    |    |-- end: integer (nullable = true)\n",
      " |    |    |-- result: string (nullable = true)\n",
      " |    |    |-- metadata: map (nullable = true)\n",
      " |    |    |    |-- key: string\n",
      " |    |    |    |-- value: string (valueContainsNull = true)\n",
      " |    |    |-- embeddings: array (nullable = true)\n",
      " |    |    |    |-- element: float (containsNull = true)\n",
      " |-- token: array (nullable = true)\n",
      " |    |-- element: struct (containsNull = true)\n",
      " |    |    |-- annotatorType: string (nullable = true)\n",
      " |    |    |-- begin: integer (nullable = true)\n",
      " |    |    |-- end: integer (nullable = true)\n",
      " |    |    |-- result: string (nullable = true)\n",
      " |    |    |-- metadata: map (nullable = true)\n",
      " |    |    |    |-- key: string\n",
      " |    |    |    |-- value: string (valueContainsNull = true)\n",
      " |    |    |-- embeddings: array (nullable = true)\n",
      " |    |    |    |-- element: float (containsNull = true)\n",
      " |-- clean_token: array (nullable = true)\n",
      " |    |-- element: struct (containsNull = true)\n",
      " |    |    |-- annotatorType: string (nullable = true)\n",
      " |    |    |-- begin: integer (nullable = true)\n",
      " |    |    |-- end: integer (nullable = true)\n",
      " |    |    |-- result: string (nullable = true)\n",
      " |    |    |-- metadata: map (nullable = true)\n",
      " |    |    |    |-- key: string\n",
      " |    |    |    |-- value: string (valueContainsNull = true)\n",
      " |    |    |-- embeddings: array (nullable = true)\n",
      " |    |    |    |-- element: float (containsNull = true)\n",
      " |-- final: array (nullable = true)\n",
      " |    |-- element: string (containsNull = true)\n",
      " |-- features: vector (nullable = true)\n",
      " |-- prediction: integer (nullable = true)\n",
      "\n"
     ]
    }
   ],
   "source": [
    "reddit_modeled.printSchema()"
   ]
  },
  {
   "cell_type": "code",
   "execution_count": 75,
   "id": "dd41ff81-deb2-4312-a667-8fc9d8f9293e",
   "metadata": {},
   "outputs": [
    {
     "name": "stderr",
     "output_type": "stream",
     "text": [
      "[Stage 39:================================================>       (43 + 4) / 50]\r"
     ]
    },
    {
     "name": "stdout",
     "output_type": "stream",
     "text": [
      "+-------+------------------+\n",
      "|summary|             score|\n",
      "+-------+------------------+\n",
      "|  count|           7373839|\n",
      "|   mean| 6.438911806997685|\n",
      "| stddev|119.37104052051218|\n",
      "|    min|              -629|\n",
      "|    max|             26483|\n",
      "+-------+------------------+\n",
      "\n"
     ]
    },
    {
     "name": "stderr",
     "output_type": "stream",
     "text": [
      "                                                                                \r"
     ]
    }
   ],
   "source": [
    "## summary statistics of a column (numeric column)\n",
    "reddit_modeled.select('score').describe().show()"
   ]
  },
  {
   "cell_type": "code",
   "execution_count": 15,
   "id": "3d4d159c-bc03-4a43-85e7-05aa2fe30da0",
   "metadata": {},
   "outputs": [
    {
     "name": "stderr",
     "output_type": "stream",
     "text": [
      "                                                                                \r"
     ]
    },
    {
     "name": "stdout",
     "output_type": "stream",
     "text": [
      "+-------------+-------+\n",
      "|sarcasm_class|  Count|\n",
      "+-------------+-------+\n",
      "|         null|      0|\n",
      "|      sarcasm| 715520|\n",
      "|       normal|6584329|\n",
      "+-------------+-------+\n",
      "\n"
     ]
    }
   ],
   "source": [
    "reddit_modeled.groupBy(\"sarcasm_class\").agg(F.count(\"sarcasm_class\").alias('Count')).show()"
   ]
  },
  {
   "cell_type": "code",
   "execution_count": 16,
   "id": "52c17fee-8482-4823-9227-ab270e578523",
   "metadata": {},
   "outputs": [],
   "source": [
    "#Keeping the rows with only Sarcasm and Normal as sentiment\n",
    "reddit_modeled = reddit_modeled.filter((reddit_modeled.sarcasm_class == 'sarcasm') | (reddit_modeled.sarcasm_class == 'normal'))"
   ]
  },
  {
   "cell_type": "code",
   "execution_count": 84,
   "id": "ed847132-158b-448d-964f-47771b8000bf",
   "metadata": {},
   "outputs": [
    {
     "name": "stderr",
     "output_type": "stream",
     "text": [
      "[Stage 68:===========================================>              (3 + 1) / 4]\r"
     ]
    },
    {
     "name": "stdout",
     "output_type": "stream",
     "text": [
      "+-------------+-------+\n",
      "|emotion_class|  Count|\n",
      "+-------------+-------+\n",
      "|          joy|1748782|\n",
      "|         fear|3087079|\n",
      "|      sadness|1148227|\n",
      "|     surprise|1315761|\n",
      "+-------------+-------+\n",
      "\n"
     ]
    },
    {
     "name": "stderr",
     "output_type": "stream",
     "text": [
      "                                                                                \r"
     ]
    }
   ],
   "source": [
    "reddit_modeled.groupBy(\"emotion_class\").agg(F.count(\"sarcasm_class\").alias('Count')).show()"
   ]
  },
  {
   "cell_type": "code",
   "execution_count": 17,
   "id": "6343761a-1388-4f49-91f8-8772934487ec",
   "metadata": {},
   "outputs": [],
   "source": [
    "#Keeping the rows with only Sarcasm and Normal as sentiment\n",
    "reddit_modeled = reddit_modeled.filter((reddit_modeled.emotion_class == 'joy') | (reddit_modeled.emotion_class == 'fear') | (reddit_modeled.emotion_class == 'sadness') | (reddit_modeled.emotion_class == 'surprise'))\n",
    "\n"
   ]
  },
  {
   "cell_type": "code",
   "execution_count": 89,
   "id": "ce8f3a60-76fc-4027-8556-fd1aca22b65c",
   "metadata": {},
   "outputs": [
    {
     "name": "stderr",
     "output_type": "stream",
     "text": [
      "[Stage 81:======================================================> (49 + 1) / 50]\r"
     ]
    },
    {
     "name": "stdout",
     "output_type": "stream",
     "text": [
      "+---------------+-------+\n",
      "|sentiment_class|  Count|\n",
      "+---------------+-------+\n",
      "|       positive|4737765|\n",
      "|        neutral| 329456|\n",
      "|       negative|2232628|\n",
      "+---------------+-------+\n",
      "\n"
     ]
    },
    {
     "name": "stderr",
     "output_type": "stream",
     "text": [
      "                                                                                \r"
     ]
    }
   ],
   "source": [
    "reddit_modeled.groupBy(\"sentiment_class\").agg(F.count(\"sentiment_class\").alias('Count')).show()"
   ]
  },
  {
   "cell_type": "code",
   "execution_count": 18,
   "id": "602b476f-6629-4709-b921-a90050035b80",
   "metadata": {},
   "outputs": [],
   "source": [
    "#Keeping the rows with only Sarcasm and Normal as sentiment\n",
    "reddit_modeled = reddit_modeled.filter((reddit_modeled.sentiment_class == 'negative') | (reddit_modeled.sentiment_class == 'neutral') | (reddit_modeled.sentiment_class == 'positive'))\n",
    "\n"
   ]
  },
  {
   "cell_type": "markdown",
   "id": "bafbd440-e3e1-4529-b259-1803ec28fde0",
   "metadata": {},
   "source": [
    "#### Making target variable"
   ]
  },
  {
   "cell_type": "code",
   "execution_count": 19,
   "id": "3b6ab032-3bf4-4976-a215-dd0668a88318",
   "metadata": {},
   "outputs": [
    {
     "name": "stderr",
     "output_type": "stream",
     "text": [
      "[Stage 9:=======================================================> (49 + 1) / 50]\r"
     ]
    },
    {
     "name": "stdout",
     "output_type": "stream",
     "text": [
      "+----+\n",
      "|75th|\n",
      "+----+\n",
      "| 3.0|\n",
      "+----+\n",
      "\n"
     ]
    },
    {
     "name": "stderr",
     "output_type": "stream",
     "text": [
      "                                                                                \r"
     ]
    }
   ],
   "source": [
    "# Checking 75th percentile\n",
    "reddit_modeled.agg(F.expr('percentile(score, array(0.75))')[0].alias(\"75th\")).show()"
   ]
  },
  {
   "cell_type": "markdown",
   "id": "bc6d5794-eaa0-4818-accb-64f0ba915019",
   "metadata": {},
   "source": [
    "We define that every comment with a score of 3+ is a popular comment. This can also be seen as a classificaiton of comments that are liked more and the ones that are disliked more."
   ]
  },
  {
   "cell_type": "code",
   "execution_count": 26,
   "id": "238f2ca4-0a4e-4c92-8606-ada9bbe1fac1",
   "metadata": {},
   "outputs": [],
   "source": [
    "from pyspark.sql.functions import when\n",
    "reddit_modeled = reddit_modeled.withColumn(\"is_popular\", when(reddit_modeled.score >= 3,\"Yes\")\\\n",
    "                                 .when(reddit_modeled.score < 3,\"No\")\\\n",
    "                                 .otherwise(\"No\"))"
   ]
  },
  {
   "cell_type": "code",
   "execution_count": 27,
   "id": "f06b428f-873c-40f2-9e25-d2eeff7768db",
   "metadata": {},
   "outputs": [],
   "source": [
    "balance_target = reddit_modeled.groupBy(\"is_popular\").agg(F.count(\"is_popular\").alias('Count'))"
   ]
  },
  {
   "cell_type": "code",
   "execution_count": 28,
   "id": "2f5057fb-205d-4634-a7d4-2a27c4baa100",
   "metadata": {},
   "outputs": [
    {
     "name": "stderr",
     "output_type": "stream",
     "text": [
      "                                                                                \r"
     ]
    }
   ],
   "source": [
    "balance_target_df = balance_target.toPandas()"
   ]
  },
  {
   "cell_type": "code",
   "execution_count": 29,
   "id": "6abe8f82-a0b9-4c11-a014-42e961bd9c1f",
   "metadata": {},
   "outputs": [
    {
     "data": {
      "text/html": [
       "<div>\n",
       "<style scoped>\n",
       "    .dataframe tbody tr th:only-of-type {\n",
       "        vertical-align: middle;\n",
       "    }\n",
       "\n",
       "    .dataframe tbody tr th {\n",
       "        vertical-align: top;\n",
       "    }\n",
       "\n",
       "    .dataframe thead th {\n",
       "        text-align: right;\n",
       "    }\n",
       "</style>\n",
       "<table border=\"1\" class=\"dataframe\">\n",
       "  <thead>\n",
       "    <tr style=\"text-align: right;\">\n",
       "      <th></th>\n",
       "      <th>is_popular</th>\n",
       "      <th>Count</th>\n",
       "    </tr>\n",
       "  </thead>\n",
       "  <tbody>\n",
       "    <tr>\n",
       "      <th>0</th>\n",
       "      <td>Yes</td>\n",
       "      <td>1833549</td>\n",
       "    </tr>\n",
       "    <tr>\n",
       "      <th>1</th>\n",
       "      <td>No</td>\n",
       "      <td>5466300</td>\n",
       "    </tr>\n",
       "  </tbody>\n",
       "</table>\n",
       "</div>"
      ],
      "text/plain": [
       "  is_popular    Count\n",
       "0        Yes  1833549\n",
       "1         No  5466300"
      ]
     },
     "execution_count": 29,
     "metadata": {},
     "output_type": "execute_result"
    }
   ],
   "source": [
    "balance_target_df"
   ]
  },
  {
   "cell_type": "code",
   "execution_count": 30,
   "id": "cd80c31f-4a04-4a4a-ac6c-22785a42838f",
   "metadata": {},
   "outputs": [
    {
     "data": {
      "text/html": [
       "\n",
       "<div id=\"altair-viz-56914059f78e4a3394747bc9b1d6fcaa\"></div>\n",
       "<script type=\"text/javascript\">\n",
       "  var VEGA_DEBUG = (typeof VEGA_DEBUG == \"undefined\") ? {} : VEGA_DEBUG;\n",
       "  (function(spec, embedOpt){\n",
       "    let outputDiv = document.currentScript.previousElementSibling;\n",
       "    if (outputDiv.id !== \"altair-viz-56914059f78e4a3394747bc9b1d6fcaa\") {\n",
       "      outputDiv = document.getElementById(\"altair-viz-56914059f78e4a3394747bc9b1d6fcaa\");\n",
       "    }\n",
       "    const paths = {\n",
       "      \"vega\": \"https://cdn.jsdelivr.net/npm//vega@5?noext\",\n",
       "      \"vega-lib\": \"https://cdn.jsdelivr.net/npm//vega-lib?noext\",\n",
       "      \"vega-lite\": \"https://cdn.jsdelivr.net/npm//vega-lite@4.17.0?noext\",\n",
       "      \"vega-embed\": \"https://cdn.jsdelivr.net/npm//vega-embed@6?noext\",\n",
       "    };\n",
       "\n",
       "    function maybeLoadScript(lib, version) {\n",
       "      var key = `${lib.replace(\"-\", \"\")}_version`;\n",
       "      return (VEGA_DEBUG[key] == version) ?\n",
       "        Promise.resolve(paths[lib]) :\n",
       "        new Promise(function(resolve, reject) {\n",
       "          var s = document.createElement('script');\n",
       "          document.getElementsByTagName(\"head\")[0].appendChild(s);\n",
       "          s.async = true;\n",
       "          s.onload = () => {\n",
       "            VEGA_DEBUG[key] = version;\n",
       "            return resolve(paths[lib]);\n",
       "          };\n",
       "          s.onerror = () => reject(`Error loading script: ${paths[lib]}`);\n",
       "          s.src = paths[lib];\n",
       "        });\n",
       "    }\n",
       "\n",
       "    function showError(err) {\n",
       "      outputDiv.innerHTML = `<div class=\"error\" style=\"color:red;\">${err}</div>`;\n",
       "      throw err;\n",
       "    }\n",
       "\n",
       "    function displayChart(vegaEmbed) {\n",
       "      vegaEmbed(outputDiv, spec, embedOpt)\n",
       "        .catch(err => showError(`Javascript Error: ${err.message}<br>This usually means there's a typo in your chart specification. See the javascript console for the full traceback.`));\n",
       "    }\n",
       "\n",
       "    if(typeof define === \"function\" && define.amd) {\n",
       "      requirejs.config({paths});\n",
       "      require([\"vega-embed\"], displayChart, err => showError(`Error loading script: ${err.message}`));\n",
       "    } else {\n",
       "      maybeLoadScript(\"vega\", \"5\")\n",
       "        .then(() => maybeLoadScript(\"vega-lite\", \"4.17.0\"))\n",
       "        .then(() => maybeLoadScript(\"vega-embed\", \"6\"))\n",
       "        .catch(showError)\n",
       "        .then(() => displayChart(vegaEmbed));\n",
       "    }\n",
       "  })({\"config\": {\"view\": {\"continuousWidth\": 400, \"continuousHeight\": 300, \"strokeWidth\": 0}, \"axis\": {\"grid\": false}}, \"layer\": [{\"mark\": \"bar\", \"encoding\": {\"color\": {\"value\": \"#fc9272\"}, \"tooltip\": [{\"field\": \"Count\", \"type\": \"quantitative\"}], \"x\": {\"field\": \"is_popular\", \"title\": \"Is a Popular comment?\", \"type\": \"nominal\"}, \"y\": {\"field\": \"Count\", \"title\": \"Count of comments\", \"type\": \"quantitative\"}}, \"selection\": {\"selector001\": {\"type\": \"interval\", \"bind\": \"scales\", \"encodings\": [\"x\", \"y\"]}}, \"title\": {\"text\": [\"What is the balance of target variable?\"], \"subtitle\": [\"Count of comments for popular and not popular comments\"]}, \"width\": 600}, {\"mark\": {\"type\": \"text\", \"angle\": 0, \"opacity\": 1, \"size\": 13, \"text\": \"Target Variable is imbalanced towards No\"}, \"encoding\": {\"x\": {\"field\": \"text_x\", \"type\": \"nominal\"}, \"y\": {\"field\": \"text_y\", \"type\": \"quantitative\"}}}], \"data\": {\"name\": \"data-528e341487d64528161b4c08c319cdca\"}, \"$schema\": \"https://vega.github.io/schema/vega-lite/v4.17.0.json\", \"datasets\": {\"data-528e341487d64528161b4c08c319cdca\": [{\"is_popular\": \"Yes\", \"Count\": 1833549, \"text_x\": \"Yes\", \"text_y\": 4000000}, {\"is_popular\": \"No\", \"Count\": 5466300, \"text_x\": \"Yes\", \"text_y\": 4000000}]}}, {\"mode\": \"vega-lite\"});\n",
       "</script>"
      ],
      "text/plain": [
       "alt.LayerChart(...)"
      ]
     },
     "execution_count": 30,
     "metadata": {},
     "output_type": "execute_result"
    }
   ],
   "source": [
    "balance_target_df['text_x'] = \"Yes\"\n",
    "balance_target_df['text_y'] = 4000000\n",
    "\n",
    "balance_plot = (\n",
    "        alt.Chart(balance_target_df)\n",
    "        .mark_bar()\n",
    "        .encode(\n",
    "            y = alt.X(\"Count\", title=\"Count of comments\"),\n",
    "            x=alt.Y(\"is_popular\", title=\"Is a Popular comment?\"#,scale = alt.Scale(domain=[1,1.15])\n",
    "                   ),\n",
    "            color=alt.value('#fc9272'),\n",
    "            tooltip=[alt.Tooltip('Count')]\n",
    "        )\n",
    "    ).properties(width=600,title={\n",
    "      \"text\": [\"What is the balance of target variable?\"], \n",
    "      \"subtitle\": [\"Count of comments for popular and not popular comments\"]\n",
    "    },).interactive()\n",
    "\n",
    "\n",
    "\n",
    "text = alt.Chart(balance_target_df).mark_text(opacity = 1,size =13,\n",
    "    text='Target Variable is imbalanced towards No', angle=0\n",
    ").encode(\n",
    "    x='text_x', y='text_y'\n",
    ")\n",
    "\n",
    "balance_plot = alt.layer(\n",
    "    balance_plot,text#,elbow_plot_point,#,rect,rect2,text2,text\n",
    ").configure_axis(\n",
    "    grid=False\n",
    ").configure_view(\n",
    "    strokeWidth=0\n",
    ")\n",
    "\n",
    "balance_plot.save(\"plots/ml/balance_plot.html\")\n",
    "balance_plot"
   ]
  },
  {
   "cell_type": "markdown",
   "id": "41608526-df58-457b-9a6e-cd50efb6ed75",
   "metadata": {},
   "source": [
    "We can see that our data is not balanced, so we will have to do downsampling to balance our dataset before moving on to our analysis."
   ]
  },
  {
   "cell_type": "markdown",
   "id": "49285ca2-6fec-46df-ad10-42c4c9244ea4",
   "metadata": {},
   "source": [
    "#### Feature Engineering"
   ]
  },
  {
   "cell_type": "code",
   "execution_count": 31,
   "id": "5d426be8-c054-4bb8-b9e8-fc77d087bd35",
   "metadata": {},
   "outputs": [],
   "source": [
    "import math"
   ]
  },
  {
   "cell_type": "markdown",
   "id": "a1db897c-3aa0-4bdc-9359-ea6ecb0c5dee",
   "metadata": {},
   "source": [
    "Cos and Sin have been taken of time variables to retain their cyclic nature"
   ]
  },
  {
   "cell_type": "code",
   "execution_count": 32,
   "id": "9e911d13-4c32-44ab-aec5-78775b358b26",
   "metadata": {},
   "outputs": [],
   "source": [
    "reddit_modeled = reddit_modeled.withColumn(\"hour_post\", F.hour(\"created_date\"))"
   ]
  },
  {
   "cell_type": "code",
   "execution_count": 33,
   "id": "849c9e99-3f15-4e34-a7b8-53c33b9a01f9",
   "metadata": {},
   "outputs": [],
   "source": [
    "reddit_modeled = reddit_modeled.withColumn(\"hour_cos\",F.cos((2 * math.pi * reddit_modeled[\"hour_post\"]) / 24))\n",
    "reddit_modeled = reddit_modeled.withColumn(\"hour_sin\",F.sin((2 * math.pi * reddit_modeled[\"hour_post\"]) / 24))"
   ]
  },
  {
   "cell_type": "code",
   "execution_count": 34,
   "id": "d40d043f-cfe3-4bb8-90d0-6b77c46ff5d8",
   "metadata": {},
   "outputs": [],
   "source": [
    "reddit_modeled = reddit_modeled.withColumn(\"month_post\", F.month(\"created_date\"))"
   ]
  },
  {
   "cell_type": "code",
   "execution_count": 35,
   "id": "5fc5a19e-c384-4a5b-ab58-7dbfad9cc14b",
   "metadata": {},
   "outputs": [],
   "source": [
    "reddit_modeled = reddit_modeled.withColumn(\"month_cos\",F.cos((2 * math.pi * reddit_modeled[\"month_post\"]) / 12))\n",
    "reddit_modeled = reddit_modeled.withColumn(\"month_sin\",F.sin((2 * math.pi * reddit_modeled[\"month_post\"]) / 12))"
   ]
  },
  {
   "cell_type": "code",
   "execution_count": 36,
   "id": "74f00ab1-bb55-49b9-bfc7-5504ea3c4a4d",
   "metadata": {},
   "outputs": [],
   "source": [
    "reddit_modeled = reddit_modeled.withColumn(\"year_post\", F.year(\"created_date\"))"
   ]
  },
  {
   "cell_type": "code",
   "execution_count": 37,
   "id": "d27621e3-fcaf-4294-bc07-a8326243d377",
   "metadata": {},
   "outputs": [],
   "source": [
    "reddit_modeled = reddit_modeled.withColumn(\"day_week\", F.dayofweek(\"created_date\"))"
   ]
  },
  {
   "cell_type": "code",
   "execution_count": 38,
   "id": "66aa67b9-5e7d-454e-a85e-cf892894cd5d",
   "metadata": {},
   "outputs": [],
   "source": [
    "reddit_modeled = reddit_modeled.withColumn(\"day_week_cos\",F.cos((2 * math.pi * reddit_modeled[\"day_week\"]) / 7))\n",
    "reddit_modeled = reddit_modeled.withColumn(\"day_week_sin\",F.sin((2 * math.pi * reddit_modeled[\"day_week\"]) / 7))"
   ]
  },
  {
   "cell_type": "code",
   "execution_count": 39,
   "id": "188dcfd4-df05-4d62-a40c-254f31aae7b6",
   "metadata": {},
   "outputs": [],
   "source": [
    "reddit_modeled = reddit_modeled.withColumn(\"day_month\", F.dayofmonth(\"created_date\"))"
   ]
  },
  {
   "cell_type": "code",
   "execution_count": 40,
   "id": "c0c77e65-02ab-4f6b-89e7-8f8d0f0e1fc6",
   "metadata": {},
   "outputs": [],
   "source": [
    "reddit_modeled = reddit_modeled.withColumn(\"day_month_cos\",F.cos((2 * math.pi * reddit_modeled[\"day_month\"]) / 31))\n",
    "reddit_modeled = reddit_modeled.withColumn(\"day_month_sin\",F.sin((2 * math.pi * reddit_modeled[\"day_month\"]) / 31))"
   ]
  },
  {
   "cell_type": "code",
   "execution_count": 41,
   "id": "26c64ba9-4da6-44ac-aa26-b6fd521973c6",
   "metadata": {},
   "outputs": [
    {
     "name": "stdout",
     "output_type": "stream",
     "text": [
      "root\n",
      " |-- document: string (nullable = true)\n",
      " |-- sarcasm_class: string (nullable = true)\n",
      " |-- sarcasm_value: double (nullable = true)\n",
      " |-- sentiment_class: string (nullable = true)\n",
      " |-- sentiment_value: double (nullable = true)\n",
      " |-- emotion_class: string (nullable = true)\n",
      " |-- score: long (nullable = true)\n",
      " |-- gilded: long (nullable = true)\n",
      " |-- controversiality: long (nullable = true)\n",
      " |-- Awards: string (nullable = true)\n",
      " |-- Jokes: string (nullable = true)\n",
      " |-- Covid: string (nullable = true)\n",
      " |-- created_date: string (nullable = true)\n",
      " |-- is_weekend: integer (nullable = true)\n",
      " |-- reddit_age_post: integer (nullable = true)\n",
      " |-- is_award: integer (nullable = true)\n",
      " |-- document2: array (nullable = true)\n",
      " |    |-- element: struct (containsNull = true)\n",
      " |    |    |-- annotatorType: string (nullable = true)\n",
      " |    |    |-- begin: integer (nullable = true)\n",
      " |    |    |-- end: integer (nullable = true)\n",
      " |    |    |-- result: string (nullable = true)\n",
      " |    |    |-- metadata: map (nullable = true)\n",
      " |    |    |    |-- key: string\n",
      " |    |    |    |-- value: string (valueContainsNull = true)\n",
      " |    |    |-- embeddings: array (nullable = true)\n",
      " |    |    |    |-- element: float (containsNull = true)\n",
      " |-- token: array (nullable = true)\n",
      " |    |-- element: struct (containsNull = true)\n",
      " |    |    |-- annotatorType: string (nullable = true)\n",
      " |    |    |-- begin: integer (nullable = true)\n",
      " |    |    |-- end: integer (nullable = true)\n",
      " |    |    |-- result: string (nullable = true)\n",
      " |    |    |-- metadata: map (nullable = true)\n",
      " |    |    |    |-- key: string\n",
      " |    |    |    |-- value: string (valueContainsNull = true)\n",
      " |    |    |-- embeddings: array (nullable = true)\n",
      " |    |    |    |-- element: float (containsNull = true)\n",
      " |-- clean_token: array (nullable = true)\n",
      " |    |-- element: struct (containsNull = true)\n",
      " |    |    |-- annotatorType: string (nullable = true)\n",
      " |    |    |-- begin: integer (nullable = true)\n",
      " |    |    |-- end: integer (nullable = true)\n",
      " |    |    |-- result: string (nullable = true)\n",
      " |    |    |-- metadata: map (nullable = true)\n",
      " |    |    |    |-- key: string\n",
      " |    |    |    |-- value: string (valueContainsNull = true)\n",
      " |    |    |-- embeddings: array (nullable = true)\n",
      " |    |    |    |-- element: float (containsNull = true)\n",
      " |-- final: array (nullable = true)\n",
      " |    |-- element: string (containsNull = true)\n",
      " |-- features: vector (nullable = true)\n",
      " |-- prediction: integer (nullable = true)\n",
      " |-- is_popular: string (nullable = false)\n",
      " |-- hour_post: integer (nullable = true)\n",
      " |-- hour_cos: double (nullable = true)\n",
      " |-- hour_sin: double (nullable = true)\n",
      " |-- month_post: integer (nullable = true)\n",
      " |-- month_cos: double (nullable = true)\n",
      " |-- month_sin: double (nullable = true)\n",
      " |-- year_post: integer (nullable = true)\n",
      " |-- day_week: integer (nullable = true)\n",
      " |-- day_week_cos: double (nullable = true)\n",
      " |-- day_week_sin: double (nullable = true)\n",
      " |-- day_month: integer (nullable = true)\n",
      " |-- day_month_cos: double (nullable = true)\n",
      " |-- day_month_sin: double (nullable = true)\n",
      "\n"
     ]
    }
   ],
   "source": [
    "reddit_modeled.printSchema()"
   ]
  },
  {
   "cell_type": "markdown",
   "id": "2d2f1f16-b78f-421a-b846-a45b5c50878f",
   "metadata": {},
   "source": [
    "#### Balancing target variable"
   ]
  },
  {
   "cell_type": "code",
   "execution_count": 42,
   "id": "70a7be38-bd6d-417e-9ee7-ec99cc0cf849",
   "metadata": {},
   "outputs": [
    {
     "name": "stderr",
     "output_type": "stream",
     "text": [
      "22/05/04 00:19:26 WARN package: Truncated the string representation of a plan since it was too large. This behavior can be adjusted by setting 'spark.sql.debug.maxToStringFields'.\n",
      "                                                                                \r"
     ]
    }
   ],
   "source": [
    "#Downsamping as controversiality is imbalanced\n",
    "major_df = reddit_modeled.filter(F.col(\"is_popular\") == \"No\")\n",
    "minor_df = reddit_modeled.filter(F.col(\"is_popular\") == \"Yes\")\n",
    "ratio = int(major_df.count()/minor_df.count())"
   ]
  },
  {
   "cell_type": "code",
   "execution_count": 45,
   "id": "380bf142-cac6-43a9-ac8b-07eda18cecb6",
   "metadata": {},
   "outputs": [],
   "source": [
    "sampled_majority_df = major_df.sample(False, 1/3.2)\n",
    "downsampled_df = sampled_majority_df.unionAll(minor_df)"
   ]
  },
  {
   "cell_type": "code",
   "execution_count": 46,
   "id": "f1690409-6aac-4726-86bc-3746fa88c075",
   "metadata": {},
   "outputs": [
    {
     "name": "stderr",
     "output_type": "stream",
     "text": [
      "                                                                                \r"
     ]
    },
    {
     "name": "stdout",
     "output_type": "stream",
     "text": [
      "+----------+-------+\n",
      "|is_popular|  count|\n",
      "+----------+-------+\n",
      "|       Yes|1833549|\n",
      "|        No|1707139|\n",
      "+----------+-------+\n",
      "\n"
     ]
    }
   ],
   "source": [
    "downsampled_df.groupBy('is_popular').count().show()"
   ]
  },
  {
   "cell_type": "code",
   "execution_count": 47,
   "id": "30c71702-2aab-46fa-a15f-ecd51855f82c",
   "metadata": {},
   "outputs": [],
   "source": [
    "downsampled_df2 = downsampled_df.select(['sarcasm_class', \\\n",
    "                                        'sentiment_class', \\\n",
    "                                        'emotion_class', \\\n",
    "                                        'gilded', \\\n",
    "                                        'controversiality',\\\n",
    "                                        'is_award',\\\n",
    "                                        'Jokes',\\\n",
    "                                        'Covid', \\\n",
    "                                        'is_weekend',\\\n",
    "                                        'reddit_age_post',\\\n",
    "                                        'prediction',\\\n",
    "                                       'is_popular',\\\n",
    "                                       'hour_cos',\\\n",
    "                                        'hour_sin',\\\n",
    "                                        'month_cos',\\\n",
    "                                        'month_sin',\\\n",
    "                                        'day_week_cos',\\\n",
    "                                        'day_week_sin',\\\n",
    "                                        'day_month_cos',\\\n",
    "                                        'day_month_sin',\\\n",
    "                                        'year_post',\\\n",
    "                                        ] )"
   ]
  },
  {
   "cell_type": "code",
   "execution_count": 48,
   "id": "86c25a6e-66e6-40b7-ad67-8bd4489494a1",
   "metadata": {},
   "outputs": [
    {
     "name": "stderr",
     "output_type": "stream",
     "text": [
      "                                                                                \r"
     ]
    }
   ],
   "source": [
    "null_values_s = downsampled_df2.select(*[\n",
    "    (\n",
    "        F.count(F.when((F.isnan(c) | F.col(c).isNull()), c)) if t not in (\"boolean\",\"timestamp\", \"date\")\n",
    "        else F.count(F.when(F.col(c).isNull(), c))\n",
    "    ).alias(c)\n",
    "    for c, t in downsampled_df2.dtypes if c in downsampled_df2.columns\n",
    "]).toPandas()"
   ]
  },
  {
   "cell_type": "code",
   "execution_count": 49,
   "id": "e0e73f58-ab05-4ef6-94e3-cb13c97e6ade",
   "metadata": {},
   "outputs": [],
   "source": [
    "null_values = pd.melt(null_values_s)"
   ]
  },
  {
   "cell_type": "code",
   "execution_count": 50,
   "id": "6d88eb63-c253-4002-8d37-2c8df6635a01",
   "metadata": {},
   "outputs": [
    {
     "data": {
      "text/html": [
       "<div>\n",
       "<style scoped>\n",
       "    .dataframe tbody tr th:only-of-type {\n",
       "        vertical-align: middle;\n",
       "    }\n",
       "\n",
       "    .dataframe tbody tr th {\n",
       "        vertical-align: top;\n",
       "    }\n",
       "\n",
       "    .dataframe thead th {\n",
       "        text-align: right;\n",
       "    }\n",
       "</style>\n",
       "<table border=\"1\" class=\"dataframe\">\n",
       "  <thead>\n",
       "    <tr style=\"text-align: right;\">\n",
       "      <th></th>\n",
       "      <th>variable</th>\n",
       "      <th>value</th>\n",
       "    </tr>\n",
       "  </thead>\n",
       "  <tbody>\n",
       "    <tr>\n",
       "      <th>0</th>\n",
       "      <td>sarcasm_class</td>\n",
       "      <td>0</td>\n",
       "    </tr>\n",
       "    <tr>\n",
       "      <th>1</th>\n",
       "      <td>sentiment_class</td>\n",
       "      <td>0</td>\n",
       "    </tr>\n",
       "    <tr>\n",
       "      <th>2</th>\n",
       "      <td>emotion_class</td>\n",
       "      <td>0</td>\n",
       "    </tr>\n",
       "    <tr>\n",
       "      <th>3</th>\n",
       "      <td>gilded</td>\n",
       "      <td>0</td>\n",
       "    </tr>\n",
       "    <tr>\n",
       "      <th>4</th>\n",
       "      <td>controversiality</td>\n",
       "      <td>0</td>\n",
       "    </tr>\n",
       "    <tr>\n",
       "      <th>5</th>\n",
       "      <td>is_award</td>\n",
       "      <td>0</td>\n",
       "    </tr>\n",
       "    <tr>\n",
       "      <th>6</th>\n",
       "      <td>Jokes</td>\n",
       "      <td>0</td>\n",
       "    </tr>\n",
       "    <tr>\n",
       "      <th>7</th>\n",
       "      <td>Covid</td>\n",
       "      <td>0</td>\n",
       "    </tr>\n",
       "    <tr>\n",
       "      <th>8</th>\n",
       "      <td>is_weekend</td>\n",
       "      <td>0</td>\n",
       "    </tr>\n",
       "    <tr>\n",
       "      <th>9</th>\n",
       "      <td>reddit_age_post</td>\n",
       "      <td>927493</td>\n",
       "    </tr>\n",
       "    <tr>\n",
       "      <th>10</th>\n",
       "      <td>prediction</td>\n",
       "      <td>0</td>\n",
       "    </tr>\n",
       "    <tr>\n",
       "      <th>11</th>\n",
       "      <td>is_popular</td>\n",
       "      <td>0</td>\n",
       "    </tr>\n",
       "    <tr>\n",
       "      <th>12</th>\n",
       "      <td>hour_cos</td>\n",
       "      <td>0</td>\n",
       "    </tr>\n",
       "    <tr>\n",
       "      <th>13</th>\n",
       "      <td>hour_sin</td>\n",
       "      <td>0</td>\n",
       "    </tr>\n",
       "    <tr>\n",
       "      <th>14</th>\n",
       "      <td>month_cos</td>\n",
       "      <td>0</td>\n",
       "    </tr>\n",
       "    <tr>\n",
       "      <th>15</th>\n",
       "      <td>month_sin</td>\n",
       "      <td>0</td>\n",
       "    </tr>\n",
       "    <tr>\n",
       "      <th>16</th>\n",
       "      <td>day_week_cos</td>\n",
       "      <td>0</td>\n",
       "    </tr>\n",
       "    <tr>\n",
       "      <th>17</th>\n",
       "      <td>day_week_sin</td>\n",
       "      <td>0</td>\n",
       "    </tr>\n",
       "    <tr>\n",
       "      <th>18</th>\n",
       "      <td>day_month_cos</td>\n",
       "      <td>0</td>\n",
       "    </tr>\n",
       "    <tr>\n",
       "      <th>19</th>\n",
       "      <td>day_month_sin</td>\n",
       "      <td>0</td>\n",
       "    </tr>\n",
       "    <tr>\n",
       "      <th>20</th>\n",
       "      <td>year_post</td>\n",
       "      <td>0</td>\n",
       "    </tr>\n",
       "  </tbody>\n",
       "</table>\n",
       "</div>"
      ],
      "text/plain": [
       "            variable   value\n",
       "0      sarcasm_class       0\n",
       "1    sentiment_class       0\n",
       "2      emotion_class       0\n",
       "3             gilded       0\n",
       "4   controversiality       0\n",
       "5           is_award       0\n",
       "6              Jokes       0\n",
       "7              Covid       0\n",
       "8         is_weekend       0\n",
       "9    reddit_age_post  927493\n",
       "10        prediction       0\n",
       "11        is_popular       0\n",
       "12          hour_cos       0\n",
       "13          hour_sin       0\n",
       "14         month_cos       0\n",
       "15         month_sin       0\n",
       "16      day_week_cos       0\n",
       "17      day_week_sin       0\n",
       "18     day_month_cos       0\n",
       "19     day_month_sin       0\n",
       "20         year_post       0"
      ]
     },
     "execution_count": 50,
     "metadata": {},
     "output_type": "execute_result"
    }
   ],
   "source": [
    "null_values"
   ]
  },
  {
   "cell_type": "markdown",
   "id": "39c4ef28-b1ef-4148-ae91-e4d793907efa",
   "metadata": {},
   "source": [
    "We see that reddit age has a lot of null values, although it is very important variable, but so many nnull values will spoil our model. Thus we drop it"
   ]
  },
  {
   "cell_type": "code",
   "execution_count": 51,
   "id": "4c076a4b-f5f8-43d0-ad50-26b325284d92",
   "metadata": {},
   "outputs": [],
   "source": [
    "downsampled_df3 = downsampled_df2.drop(\"reddit_age_post\")"
   ]
  },
  {
   "cell_type": "code",
   "execution_count": 52,
   "id": "103ec2c6-f13e-47d4-a420-c030a83fdb39",
   "metadata": {},
   "outputs": [],
   "source": [
    "downsampled_df3 = downsampled_df3.withColumn(\"is_joke\", when(reddit_modeled.Jokes == \"\",0)\\\n",
    "                                 .otherwise(1))"
   ]
  },
  {
   "cell_type": "code",
   "execution_count": 53,
   "id": "a0acc1d9-2fb1-4059-8920-14ceec3f0a25",
   "metadata": {},
   "outputs": [],
   "source": [
    "downsampled_df3 = downsampled_df3.withColumn(\"is_covid\", when(reddit_modeled.Covid == \"\",0)\\\n",
    "                                 .otherwise(1))"
   ]
  },
  {
   "cell_type": "markdown",
   "id": "84bcefef-9ad3-4105-af5a-decaa648840a",
   "metadata": {},
   "source": [
    "#### Feature Prep"
   ]
  },
  {
   "cell_type": "code",
   "execution_count": 54,
   "id": "85ed2245-e8d6-4ff3-8cd4-b038b9136343",
   "metadata": {},
   "outputs": [
    {
     "name": "stderr",
     "output_type": "stream",
     "text": [
      "                                                                                \r"
     ]
    },
    {
     "name": "stdout",
     "output_type": "stream",
     "text": [
      "+----------+-------+\n",
      "|is_popular|  Count|\n",
      "+----------+-------+\n",
      "|       Yes|1833549|\n",
      "|        No|1707139|\n",
      "+----------+-------+\n",
      "\n"
     ]
    }
   ],
   "source": [
    "downsampled_df3.groupBy(\"is_popular\").agg(F.count(\"is_popular\").alias('Count')).show()"
   ]
  },
  {
   "cell_type": "code",
   "execution_count": 55,
   "id": "35ebd131-c1af-4abd-abf9-06964462d741",
   "metadata": {},
   "outputs": [],
   "source": [
    "from pyspark.ml.feature import OneHotEncoder, StringIndexer, IndexToString, VectorAssembler\n",
    "from pyspark.ml.classification import RandomForestClassifier, GBTClassifier, LogisticRegression, LinearSVC,DecisionTreeClassifier\n",
    "from pyspark.ml.evaluation import BinaryClassificationEvaluator, MulticlassClassificationEvaluator, RegressionEvaluator\n",
    "from pyspark.ml import Pipeline, Model\n",
    "from pyspark.ml.pipeline import PipelineModel\n",
    "from pyspark.ml.tuning import ParamGridBuilder, CrossValidator\n",
    "from pyspark.mllib.evaluation import BinaryClassificationMetrics"
   ]
  },
  {
   "cell_type": "code",
   "execution_count": 56,
   "id": "a75f7686-5b77-4e11-8dfd-5f047e970136",
   "metadata": {},
   "outputs": [],
   "source": [
    "downsampled_df3 = downsampled_df3.drop(\"Jokes\")\n",
    "downsampled_df3 = downsampled_df3.drop(\"Covid\")"
   ]
  },
  {
   "cell_type": "code",
   "execution_count": 57,
   "id": "dfb274a0-e7d0-4da7-ad2f-2b11bb5e3d0d",
   "metadata": {},
   "outputs": [],
   "source": [
    "downsampled_df3 = downsampled_df3.withColumnRenamed(\"prediction\",\"topic\")"
   ]
  },
  {
   "cell_type": "code",
   "execution_count": 58,
   "id": "dff0e67e-27d7-4beb-b85d-2d926924a2ee",
   "metadata": {},
   "outputs": [
    {
     "name": "stdout",
     "output_type": "stream",
     "text": [
      "root\n",
      " |-- sarcasm_class: string (nullable = true)\n",
      " |-- sentiment_class: string (nullable = true)\n",
      " |-- emotion_class: string (nullable = true)\n",
      " |-- gilded: long (nullable = true)\n",
      " |-- controversiality: long (nullable = true)\n",
      " |-- is_award: integer (nullable = true)\n",
      " |-- is_weekend: integer (nullable = true)\n",
      " |-- topic: integer (nullable = true)\n",
      " |-- is_popular: string (nullable = false)\n",
      " |-- hour_cos: double (nullable = true)\n",
      " |-- hour_sin: double (nullable = true)\n",
      " |-- month_cos: double (nullable = true)\n",
      " |-- month_sin: double (nullable = true)\n",
      " |-- day_week_cos: double (nullable = true)\n",
      " |-- day_week_sin: double (nullable = true)\n",
      " |-- day_month_cos: double (nullable = true)\n",
      " |-- day_month_sin: double (nullable = true)\n",
      " |-- year_post: integer (nullable = true)\n",
      " |-- is_joke: integer (nullable = false)\n",
      " |-- is_covid: integer (nullable = false)\n",
      "\n"
     ]
    }
   ],
   "source": [
    "downsampled_df3.printSchema()"
   ]
  },
  {
   "cell_type": "code",
   "execution_count": 59,
   "id": "ba0531b9-6e4c-4919-8e63-a42f9c902d4e",
   "metadata": {},
   "outputs": [],
   "source": [
    "#Splitting the data into train test and predict for our creating the model\n",
    "train_data, test_data = downsampled_df3.randomSplit([0.8, 0.2], 2464)"
   ]
  },
  {
   "cell_type": "code",
   "execution_count": 60,
   "id": "7a200b0b-ddc3-494e-aaa0-3612027d81a8",
   "metadata": {},
   "outputs": [
    {
     "name": "stderr",
     "output_type": "stream",
     "text": [
      "[Stage 42:======================================================>(99 + 1) / 100]\r"
     ]
    },
    {
     "name": "stdout",
     "output_type": "stream",
     "text": [
      "+----------+-------+\n",
      "|is_popular|  Count|\n",
      "+----------+-------+\n",
      "|       Yes|1467417|\n",
      "|        No|1365966|\n",
      "+----------+-------+\n",
      "\n"
     ]
    },
    {
     "name": "stderr",
     "output_type": "stream",
     "text": [
      "                                                                                \r"
     ]
    }
   ],
   "source": [
    "train_data.groupBy(\"is_popular\").agg(F.count(\"is_popular\").alias('Count')).show()"
   ]
  },
  {
   "cell_type": "code",
   "execution_count": 231,
   "id": "15956dce-633d-4a81-904e-e34bc6573d3b",
   "metadata": {},
   "outputs": [
    {
     "name": "stderr",
     "output_type": "stream",
     "text": [
      "[Stage 5961:====================================================>(99 + 1) / 100]\r"
     ]
    },
    {
     "name": "stdout",
     "output_type": "stream",
     "text": [
      "+----------+------+\n",
      "|is_popular| Count|\n",
      "+----------+------+\n",
      "|       Yes|366132|\n",
      "|        No|545326|\n",
      "+----------+------+\n",
      "\n"
     ]
    },
    {
     "name": "stderr",
     "output_type": "stream",
     "text": [
      "                                                                                \r"
     ]
    }
   ],
   "source": [
    "test_data.groupBy(\"is_popular\").agg(F.count(\"is_popular\").alias('Count')).show()"
   ]
  },
  {
   "cell_type": "code",
   "execution_count": 61,
   "id": "ea1d1178-fa45-46ee-8cb2-db56f7302ba4",
   "metadata": {},
   "outputs": [],
   "source": [
    "##StringIndexer for fitting in our pipeline for all of the string data into indices \n",
    "stringIndexer_sarcasm_class = StringIndexer(inputCol=\"sarcasm_class\", outputCol=\"sarcasm_class_idx\")\n",
    "stringIndexer_sentiment_class = StringIndexer(inputCol=\"sentiment_class\", outputCol=\"sentiment_class_idx\")\n",
    "stringIndexer_emotion_class = StringIndexer(inputCol=\"emotion_class\", outputCol=\"emotion_class_idx\")\n",
    "stringIndexer_popular = StringIndexer(inputCol=\"is_popular\", outputCol=\"is_popular_idx\")"
   ]
  },
  {
   "cell_type": "code",
   "execution_count": 62,
   "id": "ae59be18-0964-4ddc-bd43-c7a70da8aeea",
   "metadata": {},
   "outputs": [],
   "source": [
    "##Hot encoding for categorical values having more tha 2 categories\n",
    "onehot_sentiment = OneHotEncoder(inputCol=\"sentiment_class_idx\", outputCol=\"sentiment_class_vec\")\n",
    "onehot_emotion = OneHotEncoder(inputCol=\"emotion_class_idx\", outputCol=\"emotion_class_vec\")"
   ]
  },
  {
   "cell_type": "code",
   "execution_count": 63,
   "id": "ad3c8a6d-8c31-429a-815e-411b6a02a54c",
   "metadata": {},
   "outputs": [],
   "source": [
    "##Picking features for models\n",
    "vectorAssembler_features = VectorAssembler(\n",
    "    inputCols=[\"sarcasm_class_idx\",\"sentiment_class_vec\",\"emotion_class_vec\",\\\n",
    "               \"gilded\",\"controversiality\",\"is_award\",\"is_weekend\",\"topic\",\\\n",
    "               \"hour_cos\",\"hour_sin\",\"month_cos\",\"month_sin\",\"day_week_cos\",\\\n",
    "               \"day_week_sin\",\"day_month_cos\",\"day_month_sin\",\"year_post\",\"is_joke\",\"is_covid\"], \n",
    "    outputCol= \"features\")"
   ]
  },
  {
   "cell_type": "markdown",
   "id": "f26e7835-e760-429c-8350-32f814cc5407",
   "metadata": {},
   "source": [
    "#### Logistic Regression"
   ]
  },
  {
   "cell_type": "code",
   "execution_count": 64,
   "id": "b0b68f9b-4904-4996-af4b-9decfd228c99",
   "metadata": {},
   "outputs": [],
   "source": [
    "# Create initial LogisticRegression model\n",
    "lr = LogisticRegression(labelCol=\"is_popular_idx\", featuresCol=\"features\")"
   ]
  },
  {
   "cell_type": "code",
   "execution_count": 65,
   "id": "d68d73f6-8cc0-4875-bcec-c9b6a16568f4",
   "metadata": {},
   "outputs": [],
   "source": [
    "##Giving our predicted indices a label\n",
    "labelConverter = IndexToString(inputCol=\"prediction\", \n",
    "                               outputCol=\"predicted_popularity\", \n",
    "                               labels= [\"Popular\",\"Not Popular\"])"
   ]
  },
  {
   "cell_type": "code",
   "execution_count": 66,
   "id": "63323333-c972-43c9-b214-7901ac4b93e8",
   "metadata": {},
   "outputs": [],
   "source": [
    "#Creating a pipeline\n",
    "pipeline_lr = Pipeline(stages=[stringIndexer_sarcasm_class, stringIndexer_sentiment_class,stringIndexer_emotion_class,stringIndexer_popular,\\\n",
    "                               onehot_sentiment,onehot_emotion,\\\n",
    "                               vectorAssembler_features, \\\n",
    "                               lr,labelConverter])"
   ]
  },
  {
   "cell_type": "code",
   "execution_count": 67,
   "id": "3660f7f1-ff9b-460c-be34-a6899199d142",
   "metadata": {},
   "outputs": [],
   "source": [
    "# Create ParamGrid for Hyper parameter tuning\n",
    "lrparamGrid2 = ParamGridBuilder()\\\n",
    "             .addGrid(lr.regParam, [0.01, 0.1, 0.5])\\\n",
    "             .addGrid(lr.elasticNetParam, [0.25, 0.5, 0.75])\\\n",
    "             .addGrid(lr.maxIter, [5, 10, 20])\\\n",
    "             .build()"
   ]
  },
  {
   "cell_type": "code",
   "execution_count": 68,
   "id": "44ba6c9a-7825-4dde-9e03-aa3cd217c752",
   "metadata": {},
   "outputs": [],
   "source": [
    "# Evaluate model\n",
    "lrevaluator2 = BinaryClassificationEvaluator().setLabelCol(\"is_popular_idx\")"
   ]
  },
  {
   "cell_type": "code",
   "execution_count": 69,
   "id": "c5e488d1-4e20-4516-9927-dafb866a50d3",
   "metadata": {},
   "outputs": [],
   "source": [
    "# Create 5-fold CrossValidator\n",
    "lrcv2 = CrossValidator(estimator = pipeline_lr,\n",
    "                    estimatorParamMaps = lrparamGrid2,\n",
    "                    evaluator = lrevaluator2,\n",
    "                    numFolds = 5)"
   ]
  },
  {
   "cell_type": "code",
   "execution_count": 70,
   "id": "28ff3e37-95f6-482f-b679-451aa14c5d84",
   "metadata": {},
   "outputs": [
    {
     "name": "stderr",
     "output_type": "stream",
     "text": [
      "22/05/04 00:24:14 WARN BLAS: Failed to load implementation from: com.github.fommil.netlib.NativeSystemBLAS\n",
      "22/05/04 00:24:14 WARN BLAS: Failed to load implementation from: com.github.fommil.netlib.NativeRefBLAS\n",
      "22/05/04 00:24:16 WARN BlockManager: Asked to remove block broadcast_68, which does not exist\n",
      "22/05/04 00:36:19 WARN BlockManager: Asked to remove block broadcast_4124, which does not exist\n",
      "                                                                                \r"
     ]
    }
   ],
   "source": [
    "# Run cross validations\n",
    "lrcvModel2 = lrcv2.fit(train_data)"
   ]
  },
  {
   "cell_type": "code",
   "execution_count": null,
   "id": "3ba55958-e733-4f00-b09a-4fcd0c0120ff",
   "metadata": {},
   "outputs": [],
   "source": []
  },
  {
   "cell_type": "code",
   "execution_count": 72,
   "id": "72f54580-1fae-40ce-8319-5658132556d4",
   "metadata": {},
   "outputs": [],
   "source": [
    "# Save the model pipeline into s3\n",
    "lrcvModel2.write().save('s3://aa2464-labdata2/lrcvModel3')"
   ]
  },
  {
   "cell_type": "code",
   "execution_count": 73,
   "id": "51a6565d-85e1-4d6f-a9f9-ff16ca53d0ee",
   "metadata": {},
   "outputs": [],
   "source": [
    "# Use test set here so we can measure the accuracy of our model on new data\n",
    "lrprediction2 = lrcvModel2.transform(test_data)"
   ]
  },
  {
   "cell_type": "code",
   "execution_count": 74,
   "id": "c7126f26-6589-4da8-85d0-3715e8802ae1",
   "metadata": {},
   "outputs": [
    {
     "name": "stderr",
     "output_type": "stream",
     "text": [
      "[Stage 6303:=================================================>    (44 + 4) / 48]\r"
     ]
    },
    {
     "name": "stdout",
     "output_type": "stream",
     "text": [
      "Accuracy = 0.523832\n",
      "Test Error = 0.476168\n"
     ]
    },
    {
     "name": "stderr",
     "output_type": "stream",
     "text": [
      "                                                                                \r"
     ]
    }
   ],
   "source": [
    "# cvModel uses the best model found from the Cross Validation\n",
    "# Evaluate best model\n",
    "lr_acc2 = lrevaluator2.evaluate(lrprediction2)\n",
    "\n",
    "#Displaying the results\n",
    "print(\"Accuracy = %g\" % lr_acc2)\n",
    "print(\"Test Error = %g\" % (1.0 - lr_acc2))"
   ]
  },
  {
   "cell_type": "code",
   "execution_count": 75,
   "id": "d3e1c2fc-c547-45e1-a5f8-0b93c6034080",
   "metadata": {},
   "outputs": [
    {
     "name": "stderr",
     "output_type": "stream",
     "text": [
      "                                                                                \r"
     ]
    }
   ],
   "source": [
    "#Confusion Matrix \n",
    "#y_pred has the predicted labels\n",
    "y_pred_lr=lrprediction2.select(\"prediction\").collect()\n",
    "#y_orig are the actual labels \n",
    "y_orig_lr =lrprediction2.select(\"is_popular_idx\").collect()"
   ]
  },
  {
   "cell_type": "code",
   "execution_count": 76,
   "id": "f8537207-60fa-4aa7-b5b0-dbfb03d15d49",
   "metadata": {},
   "outputs": [],
   "source": [
    "from sklearn.metrics import confusion_matrix"
   ]
  },
  {
   "cell_type": "code",
   "execution_count": 77,
   "id": "87537cf9-afd5-42a3-9ea4-3bb47cd0fa78",
   "metadata": {},
   "outputs": [
    {
     "name": "stdout",
     "output_type": "stream",
     "text": [
      "Confusion Matrix:\n",
      "[[360755   5377]\n",
      " [333401   7772]]\n"
     ]
    }
   ],
   "source": [
    "#Creating the confusion matrix \n",
    "cm = confusion_matrix(y_orig_lr, y_pred_lr)\n",
    "print(\"Confusion Matrix:\")\n",
    "print(cm)"
   ]
  },
  {
   "cell_type": "code",
   "execution_count": 78,
   "id": "2638d2b2-3490-4709-a0da-0133fc98f133",
   "metadata": {},
   "outputs": [
    {
     "data": {
      "image/png": "[encoded data removed]",
      "text/plain": [
       "<Figure size 432x288 with 2 Axes>"
      ]
     },
     "metadata": {
      "needs_background": "light"
     },
     "output_type": "display_data"
    }
   ],
   "source": [
    "import seaborn as sns\n",
    "cm_lm = sns.heatmap(cm/np.sum(cm), annot=True,fmt='.2%')"
   ]
  },
  {
   "cell_type": "code",
   "execution_count": 98,
   "id": "89f80caf-dfab-462c-b4be-de47acc3268b",
   "metadata": {},
   "outputs": [],
   "source": [
    "def ExtractFeatureImp(featureImp, dataset, featuresCol):\n",
    "    list_extract = []\n",
    "    for i in dataset.schema['features'].metadata[\"ml_attr\"][\"attrs\"]:\n",
    "        list_extract = list_extract + dataset.schema['features'].metadata[\"ml_attr\"][\"attrs\"][i]\n",
    "    varlist = pd.DataFrame(list_extract)\n",
    "    varlist['score'] = varlist['idx'].apply(lambda x: featureImp[x])\n",
    "    return(varlist.sort_values('score', ascending = False))"
   ]
  },
  {
   "cell_type": "code",
   "execution_count": null,
   "id": "21fb140e-5edd-48ba-ad65-7a6bef69002e",
   "metadata": {},
   "outputs": [],
   "source": []
  },
  {
   "cell_type": "code",
   "execution_count": 99,
   "id": "59c08118-ed50-46f5-a8e6-17baf46638fb",
   "metadata": {},
   "outputs": [],
   "source": [
    "feature_importance_gbt=ExtractFeatureImp(lrcvModel2.bestModel.stages[-2].coefficients, lrprediction2, \"features\").head(10)\n",
    "\n",
    "\n"
   ]
  },
  {
   "cell_type": "code",
   "execution_count": 101,
   "id": "098cdacf-b4f1-4e63-8281-4c51af273277",
   "metadata": {},
   "outputs": [
    {
     "data": {
      "text/html": [
       "<div>\n",
       "<style scoped>\n",
       "    .dataframe tbody tr th:only-of-type {\n",
       "        vertical-align: middle;\n",
       "    }\n",
       "\n",
       "    .dataframe tbody tr th {\n",
       "        vertical-align: top;\n",
       "    }\n",
       "\n",
       "    .dataframe thead th {\n",
       "        text-align: right;\n",
       "    }\n",
       "</style>\n",
       "<table border=\"1\" class=\"dataframe\">\n",
       "  <thead>\n",
       "    <tr style=\"text-align: right;\">\n",
       "      <th></th>\n",
       "      <th>idx</th>\n",
       "      <th>name</th>\n",
       "      <th>vals</th>\n",
       "      <th>score</th>\n",
       "    </tr>\n",
       "  </thead>\n",
       "  <tbody>\n",
       "    <tr>\n",
       "      <th>1</th>\n",
       "      <td>7</td>\n",
       "      <td>controversiality</td>\n",
       "      <td>NaN</td>\n",
       "      <td>0.503633</td>\n",
       "    </tr>\n",
       "    <tr>\n",
       "      <th>15</th>\n",
       "      <td>21</td>\n",
       "      <td>is_covid</td>\n",
       "      <td>NaN</td>\n",
       "      <td>0.368393</td>\n",
       "    </tr>\n",
       "    <tr>\n",
       "      <th>5</th>\n",
       "      <td>11</td>\n",
       "      <td>hour_cos</td>\n",
       "      <td>NaN</td>\n",
       "      <td>0.029245</td>\n",
       "    </tr>\n",
       "    <tr>\n",
       "      <th>4</th>\n",
       "      <td>10</td>\n",
       "      <td>topic</td>\n",
       "      <td>NaN</td>\n",
       "      <td>0.011459</td>\n",
       "    </tr>\n",
       "    <tr>\n",
       "      <th>17</th>\n",
       "      <td>1</td>\n",
       "      <td>sentiment_class_vec_positive</td>\n",
       "      <td>NaN</td>\n",
       "      <td>0.007478</td>\n",
       "    </tr>\n",
       "    <tr>\n",
       "      <th>6</th>\n",
       "      <td>12</td>\n",
       "      <td>hour_sin</td>\n",
       "      <td>NaN</td>\n",
       "      <td>0.002945</td>\n",
       "    </tr>\n",
       "    <tr>\n",
       "      <th>13</th>\n",
       "      <td>19</td>\n",
       "      <td>year_post</td>\n",
       "      <td>NaN</td>\n",
       "      <td>0.000011</td>\n",
       "    </tr>\n",
       "    <tr>\n",
       "      <th>11</th>\n",
       "      <td>17</td>\n",
       "      <td>day_month_cos</td>\n",
       "      <td>NaN</td>\n",
       "      <td>0.000000</td>\n",
       "    </tr>\n",
       "    <tr>\n",
       "      <th>20</th>\n",
       "      <td>4</td>\n",
       "      <td>emotion_class_vec_joy</td>\n",
       "      <td>NaN</td>\n",
       "      <td>0.000000</td>\n",
       "    </tr>\n",
       "    <tr>\n",
       "      <th>14</th>\n",
       "      <td>20</td>\n",
       "      <td>is_joke</td>\n",
       "      <td>NaN</td>\n",
       "      <td>0.000000</td>\n",
       "    </tr>\n",
       "  </tbody>\n",
       "</table>\n",
       "</div>"
      ],
      "text/plain": [
       "    idx                          name vals     score\n",
       "1     7              controversiality  NaN  0.503633\n",
       "15   21                      is_covid  NaN  0.368393\n",
       "5    11                      hour_cos  NaN  0.029245\n",
       "4    10                         topic  NaN  0.011459\n",
       "17    1  sentiment_class_vec_positive  NaN  0.007478\n",
       "6    12                      hour_sin  NaN  0.002945\n",
       "13   19                     year_post  NaN  0.000011\n",
       "11   17                 day_month_cos  NaN  0.000000\n",
       "20    4         emotion_class_vec_joy  NaN  0.000000\n",
       "14   20                       is_joke  NaN  0.000000"
      ]
     },
     "execution_count": 101,
     "metadata": {},
     "output_type": "execute_result"
    }
   ],
   "source": [
    "feature_importance_gbt"
   ]
  },
  {
   "cell_type": "code",
   "execution_count": 104,
   "id": "62ab6659-7dc5-4922-ac7e-00112b19aae8",
   "metadata": {},
   "outputs": [
    {
     "data": {
      "text/html": [
       "\n",
       "<div id=\"altair-viz-b088342d713c4e24b10133a90976c4ee\"></div>\n",
       "<script type=\"text/javascript\">\n",
       "  var VEGA_DEBUG = (typeof VEGA_DEBUG == \"undefined\") ? {} : VEGA_DEBUG;\n",
       "  (function(spec, embedOpt){\n",
       "    let outputDiv = document.currentScript.previousElementSibling;\n",
       "    if (outputDiv.id !== \"altair-viz-b088342d713c4e24b10133a90976c4ee\") {\n",
       "      outputDiv = document.getElementById(\"altair-viz-b088342d713c4e24b10133a90976c4ee\");\n",
       "    }\n",
       "    const paths = {\n",
       "      \"vega\": \"https://cdn.jsdelivr.net/npm//vega@5?noext\",\n",
       "      \"vega-lib\": \"https://cdn.jsdelivr.net/npm//vega-lib?noext\",\n",
       "      \"vega-lite\": \"https://cdn.jsdelivr.net/npm//vega-lite@4.17.0?noext\",\n",
       "      \"vega-embed\": \"https://cdn.jsdelivr.net/npm//vega-embed@6?noext\",\n",
       "    };\n",
       "\n",
       "    function maybeLoadScript(lib, version) {\n",
       "      var key = `${lib.replace(\"-\", \"\")}_version`;\n",
       "      return (VEGA_DEBUG[key] == version) ?\n",
       "        Promise.resolve(paths[lib]) :\n",
       "        new Promise(function(resolve, reject) {\n",
       "          var s = document.createElement('script');\n",
       "          document.getElementsByTagName(\"head\")[0].appendChild(s);\n",
       "          s.async = true;\n",
       "          s.onload = () => {\n",
       "            VEGA_DEBUG[key] = version;\n",
       "            return resolve(paths[lib]);\n",
       "          };\n",
       "          s.onerror = () => reject(`Error loading script: ${paths[lib]}`);\n",
       "          s.src = paths[lib];\n",
       "        });\n",
       "    }\n",
       "\n",
       "    function showError(err) {\n",
       "      outputDiv.innerHTML = `<div class=\"error\" style=\"color:red;\">${err}</div>`;\n",
       "      throw err;\n",
       "    }\n",
       "\n",
       "    function displayChart(vegaEmbed) {\n",
       "      vegaEmbed(outputDiv, spec, embedOpt)\n",
       "        .catch(err => showError(`Javascript Error: ${err.message}<br>This usually means there's a typo in your chart specification. See the javascript console for the full traceback.`));\n",
       "    }\n",
       "\n",
       "    if(typeof define === \"function\" && define.amd) {\n",
       "      requirejs.config({paths});\n",
       "      require([\"vega-embed\"], displayChart, err => showError(`Error loading script: ${err.message}`));\n",
       "    } else {\n",
       "      maybeLoadScript(\"vega\", \"5\")\n",
       "        .then(() => maybeLoadScript(\"vega-lite\", \"4.17.0\"))\n",
       "        .then(() => maybeLoadScript(\"vega-embed\", \"6\"))\n",
       "        .catch(showError)\n",
       "        .then(() => displayChart(vegaEmbed));\n",
       "    }\n",
       "  })({\"config\": {\"view\": {\"continuousWidth\": 400, \"continuousHeight\": 300}}, \"data\": {\"name\": \"data-e85ded97c02edd366d174dd9a06daf2f\"}, \"mark\": {\"type\": \"bar\", \"color\": \"#B589D3\"}, \"encoding\": {\"x\": {\"field\": \"name\", \"sort\": [\"controversiality\", \"is_covid\", \"hour_cos\", \"topic\", \"sentiment_class_vec_positive\", \"hour_sin\", \"year_post\", \"day_month_cos\", \"emotion_class_vec_joy\", \"is_joke\"], \"title\": \"Feature Name\", \"type\": \"nominal\"}, \"y\": {\"field\": \"score\", \"title\": \"Importance Score\", \"type\": \"quantitative\"}}, \"height\": 300, \"title\": \"Feature Importance in Logistic Regression\", \"width\": 500, \"$schema\": \"https://vega.github.io/schema/vega-lite/v4.17.0.json\", \"datasets\": {\"data-e85ded97c02edd366d174dd9a06daf2f\": [{\"idx\": 7, \"name\": \"controversiality\", \"vals\": null, \"score\": 0.50363303828394}, {\"idx\": 21, \"name\": \"is_covid\", \"vals\": null, \"score\": 0.3683933266501019}, {\"idx\": 11, \"name\": \"hour_cos\", \"vals\": null, \"score\": 0.029244583436378122}, {\"idx\": 10, \"name\": \"topic\", \"vals\": null, \"score\": 0.011458840698813132}, {\"idx\": 1, \"name\": \"sentiment_class_vec_positive\", \"vals\": null, \"score\": 0.007477863497930833}, {\"idx\": 12, \"name\": \"hour_sin\", \"vals\": null, \"score\": 0.0029448513160813573}, {\"idx\": 19, \"name\": \"year_post\", \"vals\": null, \"score\": 1.061838510758141e-05}, {\"idx\": 17, \"name\": \"day_month_cos\", \"vals\": null, \"score\": 0.0}, {\"idx\": 4, \"name\": \"emotion_class_vec_joy\", \"vals\": null, \"score\": 0.0}, {\"idx\": 20, \"name\": \"is_joke\", \"vals\": null, \"score\": 0.0}]}}, {\"mode\": \"vega-lite\"});\n",
       "</script>"
      ],
      "text/plain": [
       "alt.Chart(...)"
      ]
     },
     "execution_count": 104,
     "metadata": {},
     "output_type": "execute_result"
    }
   ],
   "source": [
    "def chart_imp_features(imp, model):\n",
    "    categoryNames= list(imp.name)\n",
    "    chart= alt.Chart(imp).mark_bar().encode(\n",
    "       x=alt.X(\"name\", title='Feature Name',sort=categoryNames),\n",
    "       y=alt.Y(\"score\", title='Importance Score')\n",
    "       ).properties(\n",
    "           title=\"Feature Importance in \"+ model, \n",
    "           height=300, width=500\n",
    "       )\n",
    "    return chart\n",
    "\n",
    "chart2_1= chart_imp_features(feature_importance_gbt,'Logistic Regression')\n",
    "chart2_1=chart2_1.mark_bar(color='#B589D3')\n",
    "chart2_1.save(\"plots/ml/fetaure_imp.html\")\n",
    "chart2_1"
   ]
  },
  {
   "cell_type": "code",
   "execution_count": null,
   "id": "432ab9fb-73ec-4e7d-9756-5c2944b342b4",
   "metadata": {},
   "outputs": [],
   "source": []
  },
  {
   "cell_type": "code",
   "execution_count": null,
   "id": "2f85102a-cea3-47fe-bb06-7c7a565da210",
   "metadata": {},
   "outputs": [],
   "source": []
  },
  {
   "cell_type": "markdown",
   "id": "674087c5-6fce-44f5-9d2a-93b41aee8ac6",
   "metadata": {},
   "source": [
    "#### Decision Tree"
   ]
  },
  {
   "cell_type": "code",
   "execution_count": 79,
   "id": "318c6619-f65e-4625-8360-cf68c4a44dc6",
   "metadata": {},
   "outputs": [],
   "source": [
    "dt = DecisionTreeClassifier(maxDepth=3, labelCol=\"is_popular_idx\", leafCol=\"leafId\")"
   ]
  },
  {
   "cell_type": "code",
   "execution_count": 80,
   "id": "01a85598-d5f7-4df2-ad51-cd7b89f9e81e",
   "metadata": {},
   "outputs": [],
   "source": [
    "#Creating a pipeline\n",
    "pipeline_dt = Pipeline(stages=[stringIndexer_sarcasm_class, stringIndexer_sentiment_class,stringIndexer_emotion_class,stringIndexer_popular,\\\n",
    "                               onehot_sentiment,onehot_emotion,\\\n",
    "                               vectorAssembler_features, \\\n",
    "                               dt,labelConverter])"
   ]
  },
  {
   "cell_type": "code",
   "execution_count": 81,
   "id": "1f2dbfd7-b48b-4d8d-b410-fa53c59fecce",
   "metadata": {},
   "outputs": [
    {
     "name": "stderr",
     "output_type": "stream",
     "text": [
      "                                                                                \r"
     ]
    }
   ],
   "source": [
    "##Fitting the pipeline for train data\n",
    "model_dt = pipeline_dt.fit(train_data)"
   ]
  },
  {
   "cell_type": "code",
   "execution_count": 82,
   "id": "857daff8-61b7-4254-9915-c165e54728de",
   "metadata": {},
   "outputs": [],
   "source": [
    "##Transforming data for prediction\n",
    "prediction_train_dt  = model_dt.transform(train_data)"
   ]
  },
  {
   "cell_type": "code",
   "execution_count": 83,
   "id": "87669cb3-9a34-44f8-a5c6-485e1c6517d2",
   "metadata": {},
   "outputs": [],
   "source": [
    "##Predicting labels for test data\n",
    "predictions = model_dt.transform(test_data)"
   ]
  },
  {
   "cell_type": "code",
   "execution_count": 84,
   "id": "2dcf6c83-c25a-44b9-be3e-9615a7bbcd76",
   "metadata": {},
   "outputs": [
    {
     "name": "stderr",
     "output_type": "stream",
     "text": [
      "                                                                                \r"
     ]
    }
   ],
   "source": [
    "##Evaluating accuracy and test error for test data\n",
    "evaluatorDT = MulticlassClassificationEvaluator(labelCol=\"is_popular_idx\", predictionCol=\"prediction\", metricName=\"accuracy\")\n",
    "accuracy = evaluatorDT.evaluate(predictions)"
   ]
  },
  {
   "cell_type": "code",
   "execution_count": 85,
   "id": "eb99409e-48ae-4814-88f3-7ecbf619ff70",
   "metadata": {},
   "outputs": [
    {
     "name": "stdout",
     "output_type": "stream",
     "text": [
      "Accuracy = 0.530172\n",
      "Test Error = 0.469828\n"
     ]
    }
   ],
   "source": [
    "##Accuracy and Test Error for test_data \n",
    "print(\"Accuracy = %g\" % accuracy)\n",
    "print(\"Test Error = %g\" % (1.0 - accuracy))"
   ]
  },
  {
   "cell_type": "code",
   "execution_count": 86,
   "id": "ec745b3f-ddf3-4f68-92e8-e444c135feaf",
   "metadata": {},
   "outputs": [
    {
     "name": "stderr",
     "output_type": "stream",
     "text": [
      "                                                                                \r"
     ]
    }
   ],
   "source": [
    "##Creating a confusion matrix for our predictions\n",
    "#y_pred has the predicted labels\n",
    "y_pred=predictions.select(\"prediction\").collect()\n",
    "#y_orig are the actual labels \n",
    "y_orig=predictions.select(\"is_popular_idx\").collect()"
   ]
  },
  {
   "cell_type": "code",
   "execution_count": 87,
   "id": "2a866e23-9e13-47a0-a673-244ec3dad228",
   "metadata": {},
   "outputs": [
    {
     "name": "stdout",
     "output_type": "stream",
     "text": [
      "Confusion Matrix:\n",
      "[[364078   2054]\n",
      " [330258  10915]]\n"
     ]
    }
   ],
   "source": [
    "##Creating the confusion matrix \n",
    "cm = confusion_matrix(y_orig, y_pred)\n",
    "print(\"Confusion Matrix:\")\n",
    "print(cm)"
   ]
  },
  {
   "cell_type": "code",
   "execution_count": 88,
   "id": "e97b1786-37d5-4152-bb9b-e5d3c662b123",
   "metadata": {},
   "outputs": [
    {
     "data": {
      "image/png": "[encoded data removed]",
      "text/plain": [
       "<Figure size 432x288 with 2 Axes>"
      ]
     },
     "metadata": {
      "needs_background": "light"
     },
     "output_type": "display_data"
    }
   ],
   "source": [
    "import seaborn as sns\n",
    "cm_lm = sns.heatmap(cm/np.sum(cm), annot=True,fmt='.2%')"
   ]
  },
  {
   "cell_type": "code",
   "execution_count": null,
   "id": "aeb1c1ec-606a-4ccf-ac68-a6b20d797867",
   "metadata": {},
   "outputs": [],
   "source": []
  },
  {
   "cell_type": "code",
   "execution_count": null,
   "id": "daeb8e79-28ba-430a-8959-48543a08a801",
   "metadata": {},
   "outputs": [],
   "source": []
  },
  {
   "cell_type": "code",
   "execution_count": null,
   "id": "b0674fb9-f013-4ec9-bb05-19dfbcc8dbc9",
   "metadata": {},
   "outputs": [],
   "source": []
  },
  {
   "cell_type": "markdown",
   "id": "fb965bc5-a4ff-49f1-be90-736a9705ee07",
   "metadata": {},
   "source": [
    "#### Random Forest"
   ]
  },
  {
   "cell_type": "code",
   "execution_count": 276,
   "id": "e2b5056d-b058-4f4f-aae8-46edd2b59e9c",
   "metadata": {},
   "outputs": [],
   "source": [
    "##intialising random forest classifier\n",
    "rf = RandomForestClassifier(labelCol=\"is_popular_idx\", featuresCol=\"features\", numTrees=50)"
   ]
  },
  {
   "cell_type": "code",
   "execution_count": 277,
   "id": "e69d6862-0121-47ae-8b89-234fe278b3a1",
   "metadata": {},
   "outputs": [],
   "source": [
    "#Creating a pipeline\n",
    "pipeline_rf = Pipeline(stages=[stringIndexer_sarcasm_class, stringIndexer_sentiment_class,stringIndexer_emotion_class,stringIndexer_popular,\\\n",
    "                               onehot_sentiment,onehot_emotion,\\\n",
    "                               vectorAssembler_features, \\\n",
    "                               rf,labelConverter])"
   ]
  },
  {
   "cell_type": "code",
   "execution_count": 278,
   "id": "0e491660-62eb-42a2-be1b-c702bcceb00a",
   "metadata": {},
   "outputs": [
    {
     "name": "stderr",
     "output_type": "stream",
     "text": [
      "                                                                                \r"
     ]
    }
   ],
   "source": [
    "##Fitting the pipeline for train data\n",
    "model_rf = pipeline_rf.fit(train_data)"
   ]
  },
  {
   "cell_type": "code",
   "execution_count": 284,
   "id": "223f5554-1b16-48f7-8811-f4ffa6c42f2f",
   "metadata": {},
   "outputs": [],
   "source": [
    "##Transforming data for prediction\n",
    "prediction_train  = model_rf.transform(train_data)"
   ]
  },
  {
   "cell_type": "code",
   "execution_count": 287,
   "id": "394b5b91-4251-40ef-ae24-8522e74a4056",
   "metadata": {},
   "outputs": [],
   "source": [
    "##Predicting labels for test data\n",
    "predictions = model_rf.transform(test_data)"
   ]
  },
  {
   "cell_type": "code",
   "execution_count": 288,
   "id": "75f6d3e3-c991-498a-8e03-3110a9fb0382",
   "metadata": {},
   "outputs": [
    {
     "name": "stderr",
     "output_type": "stream",
     "text": [
      "                                                                                \r"
     ]
    }
   ],
   "source": [
    "##Evaluating accuracy and test error for test data\n",
    "evaluatorRF = MulticlassClassificationEvaluator(labelCol=\"is_popular_idx\", predictionCol=\"prediction\", metricName=\"accuracy\")\n",
    "accuracy = evaluatorRF.evaluate(predictions)"
   ]
  },
  {
   "cell_type": "code",
   "execution_count": 289,
   "id": "2b4fd4a3-b99c-4517-a2f0-759e7add3463",
   "metadata": {},
   "outputs": [
    {
     "name": "stdout",
     "output_type": "stream",
     "text": [
      "Accuracy = 0.600448\n",
      "Test Error = 0.399552\n"
     ]
    }
   ],
   "source": [
    "##Accuracy and Test Error for test_data \n",
    "print(\"Accuracy = %g\" % accuracy)\n",
    "print(\"Test Error = %g\" % (1.0 - accuracy))"
   ]
  },
  {
   "cell_type": "code",
   "execution_count": null,
   "id": "c3b971f3-aee1-4ef8-9855-518b400c03f2",
   "metadata": {},
   "outputs": [],
   "source": [
    "##### Changing Parameters"
   ]
  },
  {
   "cell_type": "code",
   "execution_count": 290,
   "id": "600369d4-f67b-4586-b607-5733471d9fc4",
   "metadata": {},
   "outputs": [],
   "source": [
    "##intialising random forest classifier\n",
    "rf = RandomForestClassifier(labelCol=\"is_popular_idx\", featuresCol=\"features\", numTrees=100)"
   ]
  },
  {
   "cell_type": "code",
   "execution_count": 291,
   "id": "c5740344-852a-4383-af45-9e807f2df1c0",
   "metadata": {},
   "outputs": [],
   "source": [
    "#Creating a pipeline\n",
    "pipeline_rf = Pipeline(stages=[stringIndexer_sarcasm_class, stringIndexer_sentiment_class,stringIndexer_emotion_class,stringIndexer_popular,\\\n",
    "                               onehot_sentiment,onehot_emotion,\\\n",
    "                               vectorAssembler_features, \\\n",
    "                               rf,labelConverter])"
   ]
  },
  {
   "cell_type": "code",
   "execution_count": 292,
   "id": "b7fe3854-e9d4-4027-b785-0c85d15bfa95",
   "metadata": {},
   "outputs": [
    {
     "name": "stderr",
     "output_type": "stream",
     "text": [
      "                                                                                \r"
     ]
    }
   ],
   "source": [
    "##Fitting the pipeline for train data\n",
    "model_rf = pipeline_rf.fit(train_data)"
   ]
  },
  {
   "cell_type": "code",
   "execution_count": 293,
   "id": "f2fa3d0f-f0d1-4964-878f-b2ceffc7a1a6",
   "metadata": {},
   "outputs": [],
   "source": [
    "##Transforming data for prediction\n",
    "prediction_train  = model_rf.transform(train_data)"
   ]
  },
  {
   "cell_type": "code",
   "execution_count": 294,
   "id": "3dccb355-5431-4624-9fbd-81b70b5a5361",
   "metadata": {},
   "outputs": [],
   "source": [
    "##Predicting labels for test data\n",
    "predictions = model_rf.transform(test_data)"
   ]
  },
  {
   "cell_type": "code",
   "execution_count": 295,
   "id": "c5754909-daca-47ce-8039-b1a172f30e39",
   "metadata": {},
   "outputs": [
    {
     "name": "stderr",
     "output_type": "stream",
     "text": [
      "                                                                                \r"
     ]
    }
   ],
   "source": [
    "##Evaluating accuracy and test error for test data\n",
    "evaluatorRF = MulticlassClassificationEvaluator(labelCol=\"is_popular_idx\", predictionCol=\"prediction\", metricName=\"accuracy\")\n",
    "accuracy = evaluatorRF.evaluate(predictions)"
   ]
  },
  {
   "cell_type": "code",
   "execution_count": 296,
   "id": "3211f411-1126-4239-b724-c2d2b5edcc43",
   "metadata": {},
   "outputs": [
    {
     "name": "stdout",
     "output_type": "stream",
     "text": [
      "Accuracy = 0.600451\n",
      "Test Error = 0.399549\n"
     ]
    }
   ],
   "source": [
    "##Accuracy and Test Error for test_data \n",
    "print(\"Accuracy = %g\" % accuracy)\n",
    "print(\"Test Error = %g\" % (1.0 - accuracy))"
   ]
  },
  {
   "cell_type": "code",
   "execution_count": 297,
   "id": "9f60b6eb-13a2-49da-9309-5b87a948bf57",
   "metadata": {},
   "outputs": [
    {
     "name": "stderr",
     "output_type": "stream",
     "text": [
      "                                                                                \r"
     ]
    }
   ],
   "source": [
    "##Creating a confusion matrix for our predictions\n",
    "#y_pred has the predicted labels\n",
    "y_pred=predictions.select(\"prediction\").collect()\n",
    "#y_orig are the actual labels \n",
    "y_orig=predictions.select(\"is_popular_idx\").collect()"
   ]
  },
  {
   "cell_type": "code",
   "execution_count": 298,
   "id": "5f9f192b-d295-4889-9d94-61159f2e32c2",
   "metadata": {},
   "outputs": [
    {
     "name": "stdout",
     "output_type": "stream",
     "text": [
      "Confusion Matrix:\n",
      "[[544973    353]\n",
      " [363819   2313]]\n"
     ]
    }
   ],
   "source": [
    "##Creating the confusion matrix \n",
    "cm = confusion_matrix(y_orig, y_pred)\n",
    "print(\"Confusion Matrix:\")\n",
    "print(cm)"
   ]
  },
  {
   "cell_type": "code",
   "execution_count": 299,
   "id": "790d6f2b-afca-47de-a8a2-1e419b212995",
   "metadata": {},
   "outputs": [
    {
     "data": {
      "image/png": "[encoded data removed]",
      "text/plain": [
       "<Figure size 432x288 with 2 Axes>"
      ]
     },
     "metadata": {
      "needs_background": "light"
     },
     "output_type": "display_data"
    }
   ],
   "source": [
    "import seaborn as sns\n",
    "cm_lm = sns.heatmap(cm/np.sum(cm), annot=True,fmt='.2%')"
   ]
  },
  {
   "cell_type": "code",
   "execution_count": null,
   "id": "88405fc4-6ed9-4520-b74f-ff110c4d69d3",
   "metadata": {},
   "outputs": [],
   "source": []
  }
 ],
 "metadata": {
  "kernelspec": {
   "display_name": "Python 3 (ipykernel)",
   "language": "python",
   "name": "python3"
  },
  "language_info": {
   "codemirror_mode": {
    "name": "ipython",
    "version": 3
   },
   "file_extension": ".py",
   "mimetype": "text/x-python",
   "name": "python",
   "nbconvert_exporter": "python",
   "pygments_lexer": "ipython3",
   "version": "3.7.11"
  }
 },
 "nbformat": 4,
 "nbformat_minor": 5
}
